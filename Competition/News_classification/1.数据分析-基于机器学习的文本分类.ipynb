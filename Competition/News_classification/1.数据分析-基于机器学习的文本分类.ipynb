{
 "cells": [
  {
   "attachments": {
    "image.png": {
     "image/png": "[encoded data removed]"
    }
   },
   "cell_type": "markdown",
   "id": "liked-scene",
   "metadata": {},
   "source": [
    "## 赛题\n",
    "### 一、赛题数据\n",
    "\n",
    "赛题以新闻数据为赛题数据，数据集报名后可见并可下载。赛题数据为新闻文本，并按照字符级别进行匿名处理。整合划分出14个候选分类类别：财经、彩票、房产、股票、家居、教育、科技、社会、时尚、时政、体育、星座、游戏、娱乐的文本数据。\n",
    "\n",
    "赛题数据由以下几个部分构成：训练集20w条样本，测试集A包括5w条样本，测试集B包括5w条样本。为了预防选手人工标注测试集的情况，我们将比赛数据的文本按照字符级别进行了匿名处理。处理后的赛题训练数据如下：\n",
    "\n",
    "\n",
    "![image.png](attachment:image.png)\n",
    "在数据集中标签的对应的关系如下：\n",
    "\n",
    "```\n",
    "{'科技': 0, '股票': 1, '体育': 2, '娱乐': 3, '时政': 4, '社会': 5, '教育': 6, '财经': 7, '家居': 8, '游戏': 9, '房产': 10, '时尚': 11, '彩票': 12, '星座': 13}\n",
    "```\n",
    "\n",
    "赛题数据来源为互联网上的新闻，通过收集并匿名处理得到。因此选手可以自行进行数据分析，可以充分发挥自己的特长来完成各种特征工程，不限制使用任何外部数据和模型。\n",
    "\n",
    "数据列使用\\t进行分割，Pandas读取数据的代码如下：\n",
    "```\n",
    "train_df = pd.read_csv('../input/train_set.csv', sep='\\t')\n",
    "```"
   ]
  },
  {
   "cell_type": "markdown",
   "id": "novel-assets",
   "metadata": {},
   "source": [
    "### 二、评测标准\n",
    "评价标准为类别f1_score的均值，选手提交结果与实际测试集的类别进行对比，结果越大越好\n",
    "$$\n",
    "计算公式： F1 = 2*\\frac{(precision*recall)}{precision+recall}\n",
    "$$\n",
    "```\n",
    "from sklearn.metrics import f1_score\n",
    "y_true = [0, 1, 2, 0, 1, 2]\n",
    "y_pred = [0, 2, 1, 0, 0, 1]\n",
    "f1_score(y_true, y_pred, average='macro')\n",
    "```"
   ]
  },
  {
   "cell_type": "markdown",
   "id": "magnetic-shock",
   "metadata": {},
   "source": [
    "# 解题\n",
    "典型的字符识别问题\n",
    "\n",
    "## 1.赛题理解\n",
    "\n",
    "### 1.1 数据读取\n",
    "使用Pandas库完成数据读取操作，并对赛题数据进行分析。\n",
    "###  1.2 解题思路\n",
    "赛题思路分析：赛题本质是一个文本分类问题，需要根据每句的字符进行分类。但赛题给出的数据是匿名化的，不能直接使用中文分词等操作，这个是赛题的难点： **对匿名字符进行建模，进而完成文本分类**\n",
    "\n",
    "由于文本数据是一种典型的非结构化数据，因此可能涉及到**特征提取**和**分类模型**两个部分。\n",
    "\n",
    "- 思路1：TF-IDF + 机器学习分类器\n",
    "\n",
    "直接使用TF-IDF对文本提取特征，并使用分类器进行分类。在分类器的选择上，可以使用SVM、LR、或者XGBoost。\n",
    "\n",
    "- 思路2：FastText\n",
    "\n",
    "FastText是入门款的词向量，利用Facebook提供的FastText工具，可以快速构建出分类器。\n",
    "\n",
    "- 思路3：WordVec + 深度学习分类器\n",
    "\n",
    "WordVec是进阶款的词向量，并通过构建深度学习分类完成分类。深度学习分类的网络结构可以选择TextCNN、TextRNN或者BiLSTM。\n",
    "\n",
    "- 思路4：Bert词向量\n",
    "\n",
    "Bert是高配款的词向量，具有强大的建模学习能力。\n",
    "\n",
    "\n"
   ]
  },
  {
   "cell_type": "markdown",
   "id": "alleged-greece",
   "metadata": {},
   "source": [
    "## 2. 数据读取与数据分析\n",
    "- 学习使用Pandas读取赛题数据\n",
    "- 分析赛题数据的分布规律\n",
    "\n",
    "### 2.1 数据读取"
   ]
  },
  {
   "cell_type": "code",
   "execution_count": 3,
   "id": "innovative-heater",
   "metadata": {},
   "outputs": [
    {
     "data": {
      "text/html": [
       "<div>\n",
       "<style scoped>\n",
       "    .dataframe tbody tr th:only-of-type {\n",
       "        vertical-align: middle;\n",
       "    }\n",
       "\n",
       "    .dataframe tbody tr th {\n",
       "        vertical-align: top;\n",
       "    }\n",
       "\n",
       "    .dataframe thead th {\n",
       "        text-align: right;\n",
       "    }\n",
       "</style>\n",
       "<table border=\"1\" class=\"dataframe\">\n",
       "  <thead>\n",
       "    <tr style=\"text-align: right;\">\n",
       "      <th></th>\n",
       "      <th>label</th>\n",
       "      <th>text</th>\n",
       "    </tr>\n",
       "  </thead>\n",
       "  <tbody>\n",
       "    <tr>\n",
       "      <th>0</th>\n",
       "      <td>2</td>\n",
       "      <td>2967 6758 339 2021 1854 3731 4109 3792 4149 15...</td>\n",
       "    </tr>\n",
       "    <tr>\n",
       "      <th>1</th>\n",
       "      <td>11</td>\n",
       "      <td>4464 486 6352 5619 2465 4802 1452 3137 5778 54...</td>\n",
       "    </tr>\n",
       "    <tr>\n",
       "      <th>2</th>\n",
       "      <td>3</td>\n",
       "      <td>7346 4068 5074 3747 5681 6093 1777 2226 7354 6...</td>\n",
       "    </tr>\n",
       "    <tr>\n",
       "      <th>3</th>\n",
       "      <td>2</td>\n",
       "      <td>7159 948 4866 2109 5520 2490 211 3956 5520 549...</td>\n",
       "    </tr>\n",
       "    <tr>\n",
       "      <th>4</th>\n",
       "      <td>3</td>\n",
       "      <td>3646 3055 3055 2490 4659 6065 3370 5814 2465 5...</td>\n",
       "    </tr>\n",
       "  </tbody>\n",
       "</table>\n",
       "</div>"
      ],
      "text/plain": [
       "   label                                               text\n",
       "0      2  2967 6758 339 2021 1854 3731 4109 3792 4149 15...\n",
       "1     11  4464 486 6352 5619 2465 4802 1452 3137 5778 54...\n",
       "2      3  7346 4068 5074 3747 5681 6093 1777 2226 7354 6...\n",
       "3      2  7159 948 4866 2109 5520 2490 211 3956 5520 549...\n",
       "4      3  3646 3055 3055 2490 4659 6065 3370 5814 2465 5..."
      ]
     },
     "execution_count": 3,
     "metadata": {},
     "output_type": "execute_result"
    }
   ],
   "source": [
    "import pandas as pd\n",
    "train_df = pd.read_csv('./data/train_set.csv', sep='\\t', nrows=100) # 数据集比较大，读取行数先设置为100\n",
    "train_df.head()"
   ]
  },
  {
   "cell_type": "markdown",
   "id": "interested-circus",
   "metadata": {},
   "source": [
    "### 2.2 数据分析\n",
    "虽然对于非结构数据并不需要做很多的数据分析，但通过数据分析还是可以找出一些规律。\n",
    "\n",
    "通过数据分析希望得出以下结论：\n",
    "\n",
    "- 赛题数据中，新闻文本的长度是多少？\n",
    "- 赛题数据的类别分布是怎么样的，哪些类别比较多？\n",
    "- 赛题数据中，字符分布是怎么样的？"
   ]
  },
  {
   "cell_type": "markdown",
   "id": "balanced-basic",
   "metadata": {},
   "source": [
    "#### （1）句子长度分析\n",
    "直接统计单词的个数来得到每个句子的长度。 统计如下："
   ]
  },
  {
   "cell_type": "code",
   "execution_count": 6,
   "id": "allied-thompson",
   "metadata": {},
   "outputs": [
    {
     "name": "stdout",
     "output_type": "stream",
     "text": [
      "Populating the interactive namespace from numpy and matplotlib\n",
      "count     100.000000\n",
      "mean      872.320000\n",
      "std       923.138191\n",
      "min        64.000000\n",
      "25%       359.500000\n",
      "50%       598.000000\n",
      "75%      1058.000000\n",
      "max      7125.000000\n",
      "Name: text_len, dtype: float64\n"
     ]
    }
   ],
   "source": [
    "%pylab inline\n",
    "train_df['text_len'] = train_df['text'].apply(lambda x: len(x.split(' ')))\n",
    "print(train_df['text_len'].describe())"
   ]
  },
  {
   "cell_type": "markdown",
   "id": "binary-syndication",
   "metadata": {},
   "source": [
    "- DataFrame.count:Count number of non-NA/null observations.\n",
    "- DataFrame.max: Maximum of the values in the object.\n",
    "- DataFrame.min: Minimum of the values in the object.\n",
    "- DataFrame.mean: Mean of the values.\n",
    "- DataFrame.std:Standard deviation of the observations."
   ]
  },
  {
   "cell_type": "code",
   "execution_count": 9,
   "id": "convertible-peninsula",
   "metadata": {},
   "outputs": [
    {
     "data": {
      "text/plain": [
       "Text(0.5, 1.0, 'Histogram of char count')"
      ]
     },
     "execution_count": 9,
     "metadata": {},
     "output_type": "execute_result"
    },
    {
     "data": {
      "image/png": "[encoded data removed]",
      "text/plain": [
       "<Figure size 432x288 with 1 Axes>"
      ]
     },
     "metadata": {
      "needs_background": "light"
     },
     "output_type": "display_data"
    }
   ],
   "source": [
    "_ = plt.hist(train_df['text_len'], bins=200)\n",
    "plt.xlabel('Text char count')\n",
    "plt.title('Histogram of char count')"
   ]
  },
  {
   "cell_type": "markdown",
   "id": "animated-jumping",
   "metadata": {},
   "source": [
    "绘制了直方图，可见大部分句子的长度都几种在2000以内"
   ]
  },
  {
   "cell_type": "markdown",
   "id": "medium-saturday",
   "metadata": {},
   "source": [
    "#### (2) 新闻类别分布"
   ]
  },
  {
   "cell_type": "code",
   "execution_count": 10,
   "id": "prime-radical",
   "metadata": {},
   "outputs": [
    {
     "data": {
      "text/plain": [
       "Text(0.5, 0, 'category')"
      ]
     },
     "execution_count": 10,
     "metadata": {},
     "output_type": "execute_result"
    },
    {
     "data": {
      "image/png": "[encoded data removed]",
      "text/plain": [
       "<Figure size 432x288 with 1 Axes>"
      ]
     },
     "metadata": {
      "needs_background": "light"
     },
     "output_type": "display_data"
    }
   ],
   "source": [
    "train_df['label'].value_counts().plot(kind='bar')\n",
    "plt.title('News class count')\n",
    "plt.xlabel('category')"
   ]
  },
  {
   "cell_type": "markdown",
   "id": "monthly-range",
   "metadata": {},
   "source": [
    "在数据集中标签的对应的关系如下：\n",
    "```\n",
    "{'科技': 0, '股票': 1, '体育': 2, '娱乐': 3, '时政': 4, '社会': 5, '教育': 6, '财经': 7, '家居': 8, '游戏': 9, '房产': 10, '时尚': 11, '彩票': 12, '星座': 13}\n",
    "```"
   ]
  },
  {
   "cell_type": "markdown",
   "id": "selective-tiger",
   "metadata": {},
   "source": [
    "#### (3) 字符分布统计\n",
    "统计每个字符出现的次数:将训练集中所有的句子进行拼接进而划分为字符"
   ]
  },
  {
   "cell_type": "code",
   "execution_count": 27,
   "id": "brief-allen",
   "metadata": {},
   "outputs": [
    {
     "name": "stdout",
     "output_type": "stream",
     "text": [
      "number of the chars: 100 ; Number of the categories of chars: 2405\n",
      "highest frequency word: ('3750', 3702)\n",
      "lowest frequency word: ('5034', 1)\n"
     ]
    }
   ],
   "source": [
    "from collections import Counter\n",
    "all_lines = ' '.join(list(train_df['text']))\n",
    "word_count = Counter(all_lines.split(' '))\n",
    "word_count = sorted(word_count.items(), key=lambda d:d[1], reverse=True)\n",
    "\n",
    "print('number of the chars:', len(train_df['text']), '; Number of the categories of chars:', len(word_count))\n",
    "print('highest frequency word:', word_count[0])\n",
    "print('lowest frequency word:', word_count[-1])"
   ]
  },
  {
   "cell_type": "markdown",
   "id": "hearing-disney",
   "metadata": {},
   "source": [
    "这里还可以根据字在每个句子的出现情况，反推出标点符号。下面代码统计了不同字符在句子中出现的次数，其中字符3750，字符900和字符648在20w新闻的覆盖率接近99%，很有可能是标点符号"
   ]
  },
  {
   "cell_type": "code",
   "execution_count": 43,
   "id": "african-liberal",
   "metadata": {},
   "outputs": [
    {
     "name": "stdout",
     "output_type": "stream",
     "text": [
      "length of the first row of Column `text`:  1986\n",
      "length of the first row of Column `text_unique`:  5120\n",
      "Number of the unique texts: 129327 \n",
      "Number of the categories of the unique texts: 2405\n",
      "The unique text with the highest frequency :  ('900', 99)\n",
      "The unique text with the second highest frequency :  ('3750', 99)\n",
      "The unique text with the third highest frequency :  ('648', 96)\n"
     ]
    }
   ],
   "source": [
    "from collections import Counter\n",
    "train_df['text_unique'] = train_df['text'].apply(lambda x: ' '.join(list(set(x.split(' ')))))\n",
    "all_lines = ' '.join(list(train_df['text_unique']))\n",
    "word_count = Counter(all_lines.split(' '))\n",
    "word_count = sorted(word_count.items(), key=lambda d:d[1], reverse = True)\n",
    "\n",
    "print('length of the first row of Column `text`: ', len(train_df['text_unique'][0]))\n",
    "print('length of the first row of Column `text_unique`: ', len(train_df['text'][0]))\n",
    "print('Number of the unique texts:', len(all_lines), '\\nNumber of the\\\n",
    " categories of the unique texts:', len(word_count))\n",
    "print('The unique text with the highest frequency : ', word_count[0])\n",
    "print('The unique text with the second highest frequency : ', word_count[1])\n",
    "print('The unique text with the third highest frequency : ', word_count[2])"
   ]
  },
  {
   "cell_type": "markdown",
   "id": "talented-packet",
   "metadata": {},
   "source": [
    "### 2.3.数据分析的结论\n",
    "通过上述分析我们可以得出以下结论：\n",
    "\n",
    "- 赛题中每个新闻包含的字符个数平均为1000个，还有一些新闻字符较长；\n",
    "- 赛题中新闻类别分布不均匀，科技类新闻样本量接近4w，星座类新闻样本量不到1k；\n",
    "- 赛题总共包括7000-8000个字符；\n",
    "\n",
    "通过数据分析，我们还可以得出以下结论：\n",
    "- 每个新闻平均字符个数较多，可能需要截断；\n",
    "- **由于类别不均衡，会严重影响模型的精度**"
   ]
  },
  {
   "cell_type": "markdown",
   "id": "pending-dealer",
   "metadata": {},
   "source": [
    "## 3. 基于机器学习的文本分类 (传统机器学习)\n",
    "\n",
    "### 3.1 学习目标¶\n",
    "- 学会TF-IDF的原理和使用\n",
    "- 使用sklearn的机器学习模型完成文本分类\n",
    "\n",
    "### 3.2 文本表示方法 Part1\n",
    "\n",
    "传统机器学习算法：假定给定$N$个样本，每个样本有$M$个特征，组成了$M\\times N$的样本矩阵\n",
    "\n",
    "例如：在计算机视觉中可以将图片的像素看作特征，每张图片看作hight×width×3的特征图，一个三维的矩阵来进入计算机进行计算。\n",
    "\n",
    "在自然语言领域，上述方法却不可行：**文本是不定长度的**。文本表示成计算机能够运算的数字或向量的方法一般称为**词嵌入（Word Embedding）**方法\n"
   ]
  },
  {
   "cell_type": "markdown",
   "id": "tracked-mailman",
   "metadata": {},
   "source": [
    "#### (1) One-hot\n",
    "这里的One-hot与数据挖掘任务中的操作是一致的，即将每一个单词使用一个离散的向量表示。具体将每个字/词编码一个索引，然后根据索引进行赋值。\n",
    "\n",
    "【示例】\n",
    "- 句子1：我 爱 北 京 天 安 门\n",
    "- 句子2：我 喜 欢 上 海\n",
    "\n",
    "每个字确定一个编号\n",
    "```\n",
    "{\n",
    "   '我': 1, '爱': 2, '北': 3, '京': 4, '天': 5,\n",
    "  '安': 6, '门': 7, '喜': 8, '欢': 9, '上': 10, '海': 11\n",
    "}\n",
    "```\n",
    "在这里共包括11个字，因此每个字可以转换为一个11维度稀疏向量：\n",
    "```\n",
    "我：[1, 0, 0, 0, 0, 0, 0, 0, 0, 0, 0]\n",
    "爱：[0, 1, 0, 0, 0, 0, 0, 0, 0, 0, 0]\n",
    "...\n",
    "海：[0, 0, 0, 0, 0, 0, 0, 0, 0, 0, 1]\n",
    "```"
   ]
  },
  {
   "attachments": {
    "image.png": {
     "image/png": "[encoded data removed]"
    }
   },
   "cell_type": "markdown",
   "id": "lightweight-annex",
   "metadata": {},
   "source": [
    "#### (2) Bag of Words\n",
    "![image.png](attachment:image.png)\n",
    "\n",
    "在`sklearn`中可以直接`CountVectorizer`来实现这一步骤："
   ]
  },
  {
   "cell_type": "code",
   "execution_count": 2,
   "id": "premier-trademark",
   "metadata": {},
   "outputs": [
    {
     "data": {
      "text/plain": [
       "array([[0, 1, 1, 1, 0, 0, 1, 0, 1],\n",
       "       [0, 2, 0, 1, 0, 1, 1, 0, 1],\n",
       "       [1, 0, 0, 1, 1, 0, 1, 1, 1],\n",
       "       [0, 1, 1, 1, 0, 0, 1, 0, 1]])"
      ]
     },
     "execution_count": 2,
     "metadata": {},
     "output_type": "execute_result"
    }
   ],
   "source": [
    "from sklearn.feature_extraction.text import CountVectorizer\n",
    "corups = [\n",
    "    'This is the first document.',\n",
    "    'This document is the second document.',\n",
    "    'And this is the third one.',\n",
    "    'Is this the first document?',\n",
    "]\n",
    "vectorizer = CountVectorizer()\n",
    "vectorizer.fit_transform(corups).toarray()"
   ]
  },
  {
   "cell_type": "markdown",
   "id": "visible-aquarium",
   "metadata": {},
   "source": [
    "#### (3)N-gram\n",
    "N-gram与Count Vectors类似，不过加入了相邻单词组合成为新的单词，并进行计数。\n",
    "\n",
    "如果N取值为2，则句子1和句子2就变为：\n",
    "\n",
    "- 句子1：我爱 爱北 北京 京天 天安 安门\n",
    "- 句子2：我喜 喜欢 欢上 上海"
   ]
  },
  {
   "cell_type": "markdown",
   "id": "attempted-skating",
   "metadata": {},
   "source": [
    "#### (4) TF-IDF\n",
    "TF-IDF 分数由两部分组成：第一部分是词语频率（Term Frequency），第二部分是逆文档频率（Inverse Document Frequency）。其中计算语料库中文档总数除以含有该词语的文档数量，然后再取对数就是逆文档频率。\n",
    "\n",
    "- TF(t)= 该词语在当前文档出现的次数 / 当前文档中词语的总数\n",
    "- IDF(t)= log_e（文档总数 / 出现该词语的文档总数）"
   ]
  },
  {
   "cell_type": "markdown",
   "id": "forbidden-qualification",
   "metadata": {},
   "source": [
    "### 3.3 基于机器学习的文本分类\n",
    "对比不同文本表示算法的精度，通过本地构建验证集计算F1得分"
   ]
  },
  {
   "cell_type": "code",
   "execution_count": 13,
   "id": "starting-thailand",
   "metadata": {},
   "outputs": [],
   "source": [
    "import pandas as pd\n",
    "\n",
    "from sklearn.feature_extraction.text import CountVectorizer, TfidfVectorizer\n",
    "from sklearn.linear_model import RidgeClassifier\n",
    "from sklearn.metrics import f1_score\n",
    "\n",
    "train_df = pd.read_csv('./data/train_set.csv', sep='\\t', nrows=15000) # 数据集比较大，读取行数先设置为100"
   ]
  },
  {
   "cell_type": "code",
   "execution_count": 9,
   "id": "invalid-metropolitan",
   "metadata": {},
   "outputs": [
    {
     "data": {
      "text/plain": [
       "RidgeClassifier()"
      ]
     },
     "execution_count": 9,
     "metadata": {},
     "output_type": "execute_result"
    }
   ],
   "source": [
    "# Count Vectors + RidgeClassifier\n",
    "verctorizer = CountVectorizer(max_features = 3000)\n",
    "train_test = vectorizer.fit_transform(train_df['text'])\n",
    "\n",
    "clf = RidgeClassifier()\n",
    "clf.fit(train_test[:10000], train_df['label'].values[:10000])"
   ]
  },
  {
   "cell_type": "code",
   "execution_count": 11,
   "id": "tropical-midnight",
   "metadata": {},
   "outputs": [
    {
     "name": "stdout",
     "output_type": "stream",
     "text": [
      "0.7006946708513297\n"
     ]
    }
   ],
   "source": [
    "val_pred = clf.predict(train_test[10000:])\n",
    "print(f1_score(train_df['label'].values[10000:], val_pred, average='macro'))"
   ]
  },
  {
   "cell_type": "code",
   "execution_count": null,
   "id": "mighty-marina",
   "metadata": {},
   "outputs": [],
   "source": [
    "#TF-IDF + RidgeClassifier\n",
    "tfidf = TfidfVectorizer(ngram_range=(1,3), max_features=3000)\n",
    "train_test = tfidf.fit_transform(train_df['text'])\n",
    "\n",
    "clf = RidgeClassifier()\n",
    "clflf.fit_transformt(train_test[:10000], train_df['label'].values[:10000])"
   ]
  },
  {
   "cell_type": "code",
   "execution_count": null,
   "id": "scientific-estate",
   "metadata": {},
   "outputs": [],
   "source": [
    "val_pred = clf.predict(train_test[10000:])\n",
    "predictrint(f1_score(train_df['label'].values[10000:], val_pred, average='macro')"
   ]
  },
  {
   "cell_type": "markdown",
   "id": "numerical-county",
   "metadata": {},
   "source": [
    "#### 更进一步\n",
    "- 尝试改变TF-IDF的参数，并验证精度\n",
    "- 尝试使用其他机器学习模型，完成训练和验证"
   ]
  }
 ],
 "metadata": {
  "kernelspec": {
   "display_name": "Python 3",
   "language": "python",
   "name": "python3"
  },
  "language_info": {
   "codemirror_mode": {
    "name": "ipython",
    "version": 3
   },
   "file_extension": ".py",
   "mimetype": "text/x-python",
   "name": "python",
   "nbconvert_exporter": "python",
   "pygments_lexer": "ipython3",
   "version": "3.8.5"
  }
 },
 "nbformat": 4,
 "nbformat_minor": 5
}
