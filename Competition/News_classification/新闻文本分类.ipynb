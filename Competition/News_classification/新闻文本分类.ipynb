{
 "cells": [
  {
   "attachments": {
    "image.png": {
     "image/png": "[encoded data removed]"
    }
   },
   "cell_type": "markdown",
   "id": "liked-scene",
   "metadata": {},
   "source": [
    "## 赛题\n",
    "### 一、赛题数据\n",
    "\n",
    "赛题以新闻数据为赛题数据，数据集报名后可见并可下载。赛题数据为新闻文本，并按照字符级别进行匿名处理。整合划分出14个候选分类类别：财经、彩票、房产、股票、家居、教育、科技、社会、时尚、时政、体育、星座、游戏、娱乐的文本数据。\n",
    "\n",
    "赛题数据由以下几个部分构成：训练集20w条样本，测试集A包括5w条样本，测试集B包括5w条样本。为了预防选手人工标注测试集的情况，我们将比赛数据的文本按照字符级别进行了匿名处理。处理后的赛题训练数据如下：\n",
    "\n",
    "\n",
    "![image.png](attachment:image.png)\n",
    "在数据集中标签的对应的关系如下：\n",
    "\n",
    "```\n",
    "{'科技': 0, '股票': 1, '体育': 2, '娱乐': 3, '时政': 4, '社会': 5, '教育': 6, '财经': 7, '家居': 8, '游戏': 9, '房产': 10, '时尚': 11, '彩票': 12, '星座': 13}\n",
    "```\n",
    "\n",
    "赛题数据来源为互联网上的新闻，通过收集并匿名处理得到。因此选手可以自行进行数据分析，可以充分发挥自己的特长来完成各种特征工程，不限制使用任何外部数据和模型。\n",
    "\n",
    "数据列使用\\t进行分割，Pandas读取数据的代码如下：\n",
    "```\n",
    "train_df = pd.read_csv('../input/train_set.csv', sep='\\t')\n",
    "```"
   ]
  },
  {
   "cell_type": "markdown",
   "id": "novel-assets",
   "metadata": {},
   "source": [
    "### 二、评测标准\n",
    "评价标准为类别f1_score的均值，选手提交结果与实际测试集的类别进行对比，结果越大越好\n",
    "$$\n",
    "计算公式： F1 = 2*\\frac{(precision*recall)}{precision+recall}\n",
    "$$\n",
    "```\n",
    "from sklearn.metrics import f1_score\n",
    "y_true = [0, 1, 2, 0, 1, 2]\n",
    "y_pred = [0, 2, 1, 0, 0, 1]\n",
    "f1_score(y_true, y_pred, average='macro')\n",
    "```"
   ]
  },
  {
   "cell_type": "markdown",
   "id": "magnetic-shock",
   "metadata": {},
   "source": [
    "# 解题\n",
    "典型的字符识别问题\n",
    "\n",
    "## 1.赛题理解\n",
    "\n",
    "### 1.1 数据读取\n",
    "使用Pandas库完成数据读取操作，并对赛题数据进行分析。\n",
    "###  1.2 解题思路\n",
    "赛题思路分析：赛题本质是一个文本分类问题，需要根据每句的字符进行分类。但赛题给出的数据是匿名化的，不能直接使用中文分词等操作，这个是赛题的难点： **对匿名字符进行建模，进而完成文本分类**\n",
    "\n",
    "由于文本数据是一种典型的非结构化数据，因此可能涉及到**特征提取**和**分类模型**两个部分。\n",
    "\n",
    "- 思路1：TF-IDF + 机器学习分类器\n",
    "\n",
    "直接使用TF-IDF对文本提取特征，并使用分类器进行分类。在分类器的选择上，可以使用SVM、LR、或者XGBoost。\n",
    "\n",
    "- 思路2：FastText\n",
    "\n",
    "FastText是入门款的词向量，利用Facebook提供的FastText工具，可以快速构建出分类器。\n",
    "\n",
    "- 思路3：WordVec + 深度学习分类器\n",
    "\n",
    "WordVec是进阶款的词向量，并通过构建深度学习分类完成分类。深度学习分类的网络结构可以选择TextCNN、TextRNN或者BiLSTM。\n",
    "\n",
    "- 思路4：Bert词向量\n",
    "\n",
    "Bert是高配款的词向量，具有强大的建模学习能力。\n",
    "\n",
    "\n"
   ]
  },
  {
   "cell_type": "markdown",
   "id": "alleged-greece",
   "metadata": {},
   "source": [
    "## 2. 数据读取与数据分析\n",
    "- 学习使用Pandas读取赛题数据\n",
    "- 分析赛题数据的分布规律\n",
    "\n",
    "### 2.1 数据读取"
   ]
  },
  {
   "cell_type": "code",
   "execution_count": 3,
   "id": "innovative-heater",
   "metadata": {},
   "outputs": [
    {
     "data": {
      "text/html": [
       "<div>\n",
       "<style scoped>\n",
       "    .dataframe tbody tr th:only-of-type {\n",
       "        vertical-align: middle;\n",
       "    }\n",
       "\n",
       "    .dataframe tbody tr th {\n",
       "        vertical-align: top;\n",
       "    }\n",
       "\n",
       "    .dataframe thead th {\n",
       "        text-align: right;\n",
       "    }\n",
       "</style>\n",
       "<table border=\"1\" class=\"dataframe\">\n",
       "  <thead>\n",
       "    <tr style=\"text-align: right;\">\n",
       "      <th></th>\n",
       "      <th>label</th>\n",
       "      <th>text</th>\n",
       "    </tr>\n",
       "  </thead>\n",
       "  <tbody>\n",
       "    <tr>\n",
       "      <th>0</th>\n",
       "      <td>2</td>\n",
       "      <td>2967 6758 339 2021 1854 3731 4109 3792 4149 15...</td>\n",
       "    </tr>\n",
       "    <tr>\n",
       "      <th>1</th>\n",
       "      <td>11</td>\n",
       "      <td>4464 486 6352 5619 2465 4802 1452 3137 5778 54...</td>\n",
       "    </tr>\n",
       "    <tr>\n",
       "      <th>2</th>\n",
       "      <td>3</td>\n",
       "      <td>7346 4068 5074 3747 5681 6093 1777 2226 7354 6...</td>\n",
       "    </tr>\n",
       "    <tr>\n",
       "      <th>3</th>\n",
       "      <td>2</td>\n",
       "      <td>7159 948 4866 2109 5520 2490 211 3956 5520 549...</td>\n",
       "    </tr>\n",
       "    <tr>\n",
       "      <th>4</th>\n",
       "      <td>3</td>\n",
       "      <td>3646 3055 3055 2490 4659 6065 3370 5814 2465 5...</td>\n",
       "    </tr>\n",
       "  </tbody>\n",
       "</table>\n",
       "</div>"
      ],
      "text/plain": [
       "   label                                               text\n",
       "0      2  2967 6758 339 2021 1854 3731 4109 3792 4149 15...\n",
       "1     11  4464 486 6352 5619 2465 4802 1452 3137 5778 54...\n",
       "2      3  7346 4068 5074 3747 5681 6093 1777 2226 7354 6...\n",
       "3      2  7159 948 4866 2109 5520 2490 211 3956 5520 549...\n",
       "4      3  3646 3055 3055 2490 4659 6065 3370 5814 2465 5..."
      ]
     },
     "execution_count": 3,
     "metadata": {},
     "output_type": "execute_result"
    }
   ],
   "source": [
    "import pandas as pd\n",
    "train_df = pd.read_csv('./data/train_set.csv', sep='\\t', nrows=100) # 数据集比较大，读取行数先设置为100\n",
    "train_df.head()"
   ]
  },
  {
   "cell_type": "markdown",
   "id": "interested-circus",
   "metadata": {},
   "source": [
    "### 2.2 数据分析\n",
    "虽然对于非结构数据并不需要做很多的数据分析，但通过数据分析还是可以找出一些规律。\n",
    "\n",
    "通过数据分析希望得出以下结论：\n",
    "\n",
    "- 赛题数据中，新闻文本的长度是多少？\n",
    "- 赛题数据的类别分布是怎么样的，哪些类别比较多？\n",
    "- 赛题数据中，字符分布是怎么样的？"
   ]
  },
  {
   "cell_type": "markdown",
   "id": "balanced-basic",
   "metadata": {},
   "source": [
    "#### （1）句子长度分析\n",
    "直接统计单词的个数来得到每个句子的长度。 统计如下："
   ]
  },
  {
   "cell_type": "code",
   "execution_count": 6,
   "id": "allied-thompson",
   "metadata": {},
   "outputs": [
    {
     "name": "stdout",
     "output_type": "stream",
     "text": [
      "Populating the interactive namespace from numpy and matplotlib\n",
      "count     100.000000\n",
      "mean      872.320000\n",
      "std       923.138191\n",
      "min        64.000000\n",
      "25%       359.500000\n",
      "50%       598.000000\n",
      "75%      1058.000000\n",
      "max      7125.000000\n",
      "Name: text_len, dtype: float64\n"
     ]
    }
   ],
   "source": [
    "%pylab inline\n",
    "train_df['text_len'] = train_df['text'].apply(lambda x: len(x.split(' ')))\n",
    "print(train_df['text_len'].describe())"
   ]
  },
  {
   "cell_type": "markdown",
   "id": "binary-syndication",
   "metadata": {},
   "source": [
    "- DataFrame.count:Count number of non-NA/null observations.\n",
    "- DataFrame.max: Maximum of the values in the object.\n",
    "- DataFrame.min: Minimum of the values in the object.\n",
    "- DataFrame.mean: Mean of the values.\n",
    "- DataFrame.std:Standard deviation of the observations."
   ]
  },
  {
   "cell_type": "code",
   "execution_count": 9,
   "id": "convertible-peninsula",
   "metadata": {},
   "outputs": [
    {
     "data": {
      "text/plain": [
       "Text(0.5, 1.0, 'Histogram of char count')"
      ]
     },
     "execution_count": 9,
     "metadata": {},
     "output_type": "execute_result"
    },
    {
     "data": {
      "image/png": "[encoded data removed]",
      "text/plain": [
       "<Figure size 432x288 with 1 Axes>"
      ]
     },
     "metadata": {
      "needs_background": "light"
     },
     "output_type": "display_data"
    }
   ],
   "source": [
    "_ = plt.hist(train_df['text_len'], bins=200)\n",
    "plt.xlabel('Text char count')\n",
    "plt.title('Histogram of char count')"
   ]
  },
  {
   "cell_type": "markdown",
   "id": "animated-jumping",
   "metadata": {},
   "source": [
    "绘制了直方图，可见大部分句子的长度都几种在2000以内"
   ]
  },
  {
   "cell_type": "markdown",
   "id": "medium-saturday",
   "metadata": {},
   "source": [
    "#### (2) 新闻类别分布"
   ]
  },
  {
   "cell_type": "code",
   "execution_count": 10,
   "id": "prime-radical",
   "metadata": {},
   "outputs": [
    {
     "data": {
      "text/plain": [
       "Text(0.5, 0, 'category')"
      ]
     },
     "execution_count": 10,
     "metadata": {},
     "output_type": "execute_result"
    },
    {
     "data": {
      "image/png": "[encoded data removed]",
      "text/plain": [
       "<Figure size 432x288 with 1 Axes>"
      ]
     },
     "metadata": {
      "needs_background": "light"
     },
     "output_type": "display_data"
    }
   ],
   "source": [
    "train_df['label'].value_counts().plot(kind='bar')\n",
    "plt.title('News class count')\n",
    "plt.xlabel('category')"
   ]
  },
  {
   "cell_type": "markdown",
   "id": "monthly-range",
   "metadata": {},
   "source": [
    "在数据集中标签的对应的关系如下：\n",
    "```\n",
    "{'科技': 0, '股票': 1, '体育': 2, '娱乐': 3, '时政': 4, '社会': 5, '教育': 6, '财经': 7, '家居': 8, '游戏': 9, '房产': 10, '时尚': 11, '彩票': 12, '星座': 13}\n",
    "```"
   ]
  },
  {
   "cell_type": "markdown",
   "id": "selective-tiger",
   "metadata": {},
   "source": [
    "#### (3) 字符分布统计\n",
    "统计每个字符出现的次数:将训练集中所有的句子进行拼接进而划分为字符"
   ]
  },
  {
   "cell_type": "code",
   "execution_count": 27,
   "id": "brief-allen",
   "metadata": {},
   "outputs": [
    {
     "name": "stdout",
     "output_type": "stream",
     "text": [
      "number of the chars: 100 ; Number of the categories of chars: 2405\n",
      "highest frequency word: ('3750', 3702)\n",
      "lowest frequency word: ('5034', 1)\n"
     ]
    }
   ],
   "source": [
    "from collections import Counter\n",
    "all_lines = ' '.join(list(train_df['text']))\n",
    "word_count = Counter(all_lines.split(' '))\n",
    "word_count = sorted(word_count.items(), key=lambda d:d[1], reverse=True)\n",
    "\n",
    "print('number of the chars:', len(train_df['text']), '; Number of the categories of chars:', len(word_count))\n",
    "print('highest frequency word:', word_count[0])\n",
    "print('lowest frequency word:', word_count[-1])"
   ]
  },
  {
   "cell_type": "markdown",
   "id": "hearing-disney",
   "metadata": {},
   "source": [
    "这里还可以根据字在每个句子的出现情况，反推出标点符号。下面代码统计了不同字符在句子中出现的次数，其中字符3750，字符900和字符648在20w新闻的覆盖率接近99%，很有可能是标点符号"
   ]
  },
  {
   "cell_type": "code",
   "execution_count": 43,
   "id": "african-liberal",
   "metadata": {},
   "outputs": [
    {
     "name": "stdout",
     "output_type": "stream",
     "text": [
      "length of the first row of Column `text`:  1986\n",
      "length of the first row of Column `text_unique`:  5120\n",
      "Number of the unique texts: 129327 \n",
      "Number of the categories of the unique texts: 2405\n",
      "The unique text with the highest frequency :  ('900', 99)\n",
      "The unique text with the second highest frequency :  ('3750', 99)\n",
      "The unique text with the third highest frequency :  ('648', 96)\n"
     ]
    }
   ],
   "source": [
    "from collections import Counter\n",
    "train_df['text_unique'] = train_df['text'].apply(lambda x: ' '.join(list(set(x.split(' ')))))\n",
    "all_lines = ' '.join(list(train_df['text_unique']))\n",
    "word_count = Counter(all_lines.split(' '))\n",
    "word_count = sorted(word_count.items(), key=lambda d:d[1], reverse = True)\n",
    "\n",
    "print('length of the first row of Column `text`: ', len(train_df['text_unique'][0]))\n",
    "print('length of the first row of Column `text_unique`: ', len(train_df['text'][0]))\n",
    "print('Number of the unique texts:', len(all_lines), '\\nNumber of the\\\n",
    " categories of the unique texts:', len(word_count))\n",
    "print('The unique text with the highest frequency : ', word_count[0])\n",
    "print('The unique text with the second highest frequency : ', word_count[1])\n",
    "print('The unique text with the third highest frequency : ', word_count[2])"
   ]
  },
  {
   "cell_type": "markdown",
   "id": "talented-packet",
   "metadata": {},
   "source": [
    "### 3.数据分析的结论\n",
    "通过上述分析我们可以得出以下结论：\n",
    "\n",
    "- 赛题中每个新闻包含的字符个数平均为1000个，还有一些新闻字符较长；\n",
    "- 赛题中新闻类别分布不均匀，科技类新闻样本量接近4w，星座类新闻样本量不到1k；\n",
    "- 赛题总共包括7000-8000个字符；\n",
    "\n",
    "通过数据分析，我们还可以得出以下结论：\n",
    "- 每个新闻平均字符个数较多，可能需要截断；\n",
    "- **由于类别不均衡，会严重影响模型的精度**"
   ]
  }
 ],
 "metadata": {
  "kernelspec": {
   "display_name": "Python 3",
   "language": "python",
   "name": "python3"
  },
  "language_info": {
   "codemirror_mode": {
    "name": "ipython",
    "version": 3
   },
   "file_extension": ".py",
   "mimetype": "text/x-python",
   "name": "python",
   "nbconvert_exporter": "python",
   "pygments_lexer": "ipython3",
   "version": "3.8.5"
  }
 },
 "nbformat": 4,
 "nbformat_minor": 5
}
