{
 "cells": [
  {
   "cell_type": "markdown",
   "id": "according-mining",
   "metadata": {},
   "source": [
    "# docker练习场 笔记\n",
    "\n",
    "## 题目\n",
    "分阶段提交容器镜像完成以下3个任务（分数依次占 30/30/40），根据评分系统的分数返回验证任务的完成情况。\n",
    "\n",
    "- 输出Hello world\n",
    "- 计算 /tcdata/num_list.csv中一列数字的总和\n",
    "- 在/tcdata/num_list.csv文件中寻找最大的10个数，从大到小生成一个List\n",
    "\n",
    "num_list.csv文件中只有一列不为负的整数，其中存在重复值，示例如下：\n",
    "> 102\n",
    "6\n",
    "11\n",
    "11\n",
    "\n",
    "生成入口脚本`run.sh`，放置于镜像工作目录。运行后生成结果`result.json`放置于工作目录（与`run.sh`同目录），评分系统将根据`result.json`进行打分。json文件如下所示：\n",
    "```\n",
    "{  \n",
    "    \"Q1\":\"Hello world\", \n",
    "    \"Q2\":sum值, \n",
    "    \"Q3\":[top10_list] \n",
    "}\n",
    "```\n",
    "\n",
    "### 构建镜像并推送\n",
    "\n",
    "为简化构建镜像的难度，天池已准备了常用的Python基础镜像，可直接拉取使用\n",
    "```\n",
    "docker pull registry.cn-shanghai.aliyuncs.com/tcc-public/python:3\n",
    "```\n",
    "#### 1. 准备所需文件\n",
    "新建一个文件夹（例如tianchi_submit_demo）用于存放这次任务镜像所需的文件，文件夹中如下：\n",
    "> Dockerfile  hello_world.py   result.json   run.sh\n",
    "\n",
    "其中`hello_world.py`中是自己的代码部分：\n",
    "\n",
    "## 1. 开通容器镜像服务（推荐阿里云）\n"
   ]
  }
 ],
 "metadata": {
  "kernelspec": {
   "display_name": "Python 3",
   "language": "python",
   "name": "python3"
  },
  "language_info": {
   "codemirror_mode": {
    "name": "ipython",
    "version": 3
   },
   "file_extension": ".py",
   "mimetype": "text/x-python",
   "name": "python",
   "nbconvert_exporter": "python",
   "pygments_lexer": "ipython3",
   "version": "3.8.5"
  }
 },
 "nbformat": 4,
 "nbformat_minor": 5
}
