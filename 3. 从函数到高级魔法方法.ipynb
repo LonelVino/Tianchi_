{
 "cells": [
  {
   "cell_type": "markdown",
   "id": "peripheral-purchase",
   "metadata": {},
   "source": [
    "# 从函数到高级魔法方法\n",
    "\n",
    "## 1.函数\n",
    "\n",
    "### 1.1 函数参数\n",
    "\n",
    "Python 的函数具有非常灵活多样的参数形态，既可以实现简单的调用，又可以传入非常复杂的参数。从简到繁的参数形态如下：\n",
    "- 位置参数 (positional argument)\n",
    "- 默认参数 (default argument)\n",
    "- 可变参数 (variable argument)\n",
    "- 关键字参数 (keyword argument)\n",
    "- 命名关键字参数 (name keyword argument)\n",
    "- 参数组合\n",
    "\n",
    "\n",
    "**1. 位置参数**\n",
    "\n",
    "> def functionname(arg1):<br>\n",
    "> &nbsp; &nbsp; &nbsp; &nbsp;\"函数_文档字符串\"<br>\n",
    "> &nbsp; &nbsp; &nbsp; &nbsp;function_suite<br>\n",
    "> &nbsp; &nbsp; &nbsp; &nbsp;return [expression]<br>\n",
    "\n",
    "- `arg1` - 位置参数 ，这些参数在调用函数 (call function) 时位置要固定。\n",
    "\n",
    "**2. 默认参数**\n",
    "\n",
    "\n",
    "> def functionname(arg1, arg2=v):<br>\n",
    "> &nbsp; &nbsp; &nbsp; &nbsp;\"函数_文档字符串\"<br>\n",
    "> &nbsp; &nbsp; &nbsp; &nbsp;function_suite<br>\n",
    "> &nbsp; &nbsp; &nbsp; &nbsp;return [expression]<br>\n",
    "\n",
    "- `arg2 = v` - 默认参数 = 默认值，调用函数时，默认参数的值如果没有传入，则被认为是默认值。\n",
    "- 默认参数一定要放在位置参数 <b>后面</b>，不然程序会报错。\n",
    "\n",
    "**- Python 允许函数调用时参数的顺序与声明时不一致，因为 Python 解释器能够用参数名匹配参数值。**\n"
   ]
  },
  {
   "cell_type": "code",
   "execution_count": 1,
   "id": "authentic-singer",
   "metadata": {},
   "outputs": [
    {
     "name": "stdout",
     "output_type": "stream",
     "text": [
      "Name:小马,Age:8\n"
     ]
    }
   ],
   "source": [
    "def printinfo(name, age):\n",
    "    print('Name:{0},Age:{1}'.format(name, age))\n",
    "\n",
    "printinfo(age=8, name='小马')  # Name:小马,Age:8"
   ]
  },
  {
   "cell_type": "markdown",
   "id": "brave-profession",
   "metadata": {},
   "source": [
    "**3. 可变参数**\n",
    "\n",
    "顾名思义，可变参数就是传入的参数个数是可变的，可以是 0, 1, 2 到任意个，是不定长的参数。\n",
    "\n",
    "\n",
    "> def functionname(arg1, arg2=v, *args):<br>\n",
    "> &nbsp; &nbsp; &nbsp; &nbsp;\"函数_文档字符串\"<br>\n",
    "> &nbsp; &nbsp; &nbsp; &nbsp;function_suite<br>\n",
    "> &nbsp; &nbsp; &nbsp; &nbsp;return [expression]<br>\n",
    "\n",
    "- `*args` - 可变参数，可以是从零个到任意个，自动组装成元组。\n",
    "- 加了星号（*）的变量名会存放所有未命名的变量参数。\n",
    "\n",
    "**4. 关键字参数**\n",
    "\n",
    "\n",
    "> def functionname(arg1, arg2=v, *args, ***kw):<br>\n",
    "> &nbsp; &nbsp; &nbsp; &nbsp;\"函数_文档字符串\"<br>\n",
    "> &nbsp; &nbsp; &nbsp; &nbsp;function_suite<br>\n",
    "> &nbsp; &nbsp; &nbsp; &nbsp;return [expression]<br>\n",
    "\n",
    "- `**kw` - 关键字参数，可以是从零个到任意个，自动组装成字典。"
   ]
  },
  {
   "cell_type": "code",
   "execution_count": 3,
   "id": "wired-password",
   "metadata": {},
   "outputs": [
    {
     "name": "stdout",
     "output_type": "stream",
     "text": [
      "70\n",
      "(60, 50)\n",
      "{}\n",
      "70\n",
      "(60, 50)\n",
      "{'a': 1, 'b': 2}\n"
     ]
    }
   ],
   "source": [
    "def printinfo(arg1, *args, **kwargs):\n",
    "    print(arg1)\n",
    "    print(args)\n",
    "    print(kwargs)\n",
    "\n",
    "\n",
    "printinfo(70, 60, 50)\n",
    "printinfo(70, 60, 50, a=1, b=2)"
   ]
  },
  {
   "cell_type": "markdown",
   "id": "boring-nerve",
   "metadata": {},
   "source": [
    "可变参数」和「关键字参数」的同异总结如下：\n",
    "- 可变参数允许传入零个到任意个参数，它们在函数调用时自动组装为一个元组 (tuple)。\n",
    "- 关键字参数允许传入零个到任意个参数，它们在函数内部自动组装为一个字典 (dict)。\n",
    "\n",
    "**5. 命名关键字参数**\n",
    "```\n",
    "def functionname(arg1, arg2=v, args, *, nkw, **kw):\n",
    "       \"函数_文档字符串\"\n",
    "       function_suite\n",
    "       return [expression]\n",
    "```\n",
    "\n",
    "- `*, nkw` - 命名关键字参数，用户想要输入的关键字参数，定义方式是在nkw 前面加个分隔符 `*`。\n",
    "- 如果要限制关键字参数的名字，就可以用「命名关键字参数」\n",
    "- 使用命名关键字参数时，要特别注意不能缺少参数名。"
   ]
  },
  {
   "cell_type": "code",
   "execution_count": 4,
   "id": "dedicated-incentive",
   "metadata": {},
   "outputs": [
    {
     "name": "stdout",
     "output_type": "stream",
     "text": [
      "70\n",
      "10\n",
      "{'a': 1, 'b': 2}\n"
     ]
    },
    {
     "ename": "TypeError",
     "evalue": "printinfo() takes 1 positional argument but 2 were given",
     "output_type": "error",
     "traceback": [
      "\u001b[0;31m---------------------------------------------------------------------------\u001b[0m",
      "\u001b[0;31mTypeError\u001b[0m                                 Traceback (most recent call last)",
      "\u001b[0;32m<ipython-input-4-9267de888e52>\u001b[0m in \u001b[0;36m<module>\u001b[0;34m\u001b[0m\n\u001b[1;32m     10\u001b[0m \u001b[0;31m# {'a': 1, 'b': 2}\u001b[0m\u001b[0;34m\u001b[0m\u001b[0;34m\u001b[0m\u001b[0;34m\u001b[0m\u001b[0m\n\u001b[1;32m     11\u001b[0m \u001b[0;34m\u001b[0m\u001b[0m\n\u001b[0;32m---> 12\u001b[0;31m \u001b[0mprintinfo\u001b[0m\u001b[0;34m(\u001b[0m\u001b[0;36m70\u001b[0m\u001b[0;34m,\u001b[0m \u001b[0;36m10\u001b[0m\u001b[0;34m,\u001b[0m \u001b[0ma\u001b[0m\u001b[0;34m=\u001b[0m\u001b[0;36m1\u001b[0m\u001b[0;34m,\u001b[0m \u001b[0mb\u001b[0m\u001b[0;34m=\u001b[0m\u001b[0;36m2\u001b[0m\u001b[0;34m)\u001b[0m\u001b[0;34m\u001b[0m\u001b[0;34m\u001b[0m\u001b[0m\n\u001b[0m\u001b[1;32m     13\u001b[0m \u001b[0;31m# TypeError: printinfo() takes 1 positional argument but 2 were given\u001b[0m\u001b[0;34m\u001b[0m\u001b[0;34m\u001b[0m\u001b[0;34m\u001b[0m\u001b[0m\n",
      "\u001b[0;31mTypeError\u001b[0m: printinfo() takes 1 positional argument but 2 were given"
     ]
    }
   ],
   "source": [
    "def printinfo(arg1, *, nkw, **kwargs):\n",
    "    print(arg1)\n",
    "    print(nkw)\n",
    "    print(kwargs)\n",
    "\n",
    "\n",
    "printinfo(70, nkw=10, a=1, b=2)\n",
    "# 70\n",
    "# 10\n",
    "# {'a': 1, 'b': 2}\n",
    "\n",
    "printinfo(70, 10, a=1, b=2)\n",
    "# TypeError: printinfo() takes 1 positional argument but 2 were given"
   ]
  },
  {
   "cell_type": "markdown",
   "id": "funded-football",
   "metadata": {},
   "source": [
    "### 1.2 变量作用域\n",
    "Python 中，程序的变量并不是在哪个位置都可以访问的，访问权限决定于这个变量是在哪里赋值的。\n",
    "\n",
    "定义在函数内部的变量拥有局部作用域，该变量称为局部变量。\n",
    "\n",
    "定义在函数外部的变量拥有全局作用域，该变量称为全局变量\n",
    "\n",
    "局部变量只能在其被声明的函数内部访问，而全局变量可以在整个程序范围内访问。\n",
    "\n",
    "\n",
    "当内部作用域想修改外部作用域的变量时，就要用到`global`和`nonlocal关键字了"
   ]
  },
  {
   "cell_type": "code",
   "execution_count": 5,
   "id": "subtle-ceiling",
   "metadata": {},
   "outputs": [
    {
     "name": "stdout",
     "output_type": "stream",
     "text": [
      "1\n",
      "123\n",
      "123\n"
     ]
    }
   ],
   "source": [
    "num = 1\n",
    "\n",
    "\n",
    "def fun1():\n",
    "    global num  # 需要使用 global 关键字声明\n",
    "    print(num)  # 1\n",
    "    num = 123\n",
    "    print(num)  # 123\n",
    "\n",
    "\n",
    "fun1()\n",
    "print(num)  # 123"
   ]
  },
  {
   "cell_type": "markdown",
   "id": "mechanical-evolution",
   "metadata": {},
   "source": [
    "**闭包**\n",
    "\n",
    "- 是函数式编程的一个重要的语法结构，是一种特殊的内嵌函数。\n",
    "- 如果在一个内部函数里对外层非全局作用域的变量进行引用，那么内部函数就被认为是闭包。\n",
    "- 通过闭包可以访问外层非全局作用域的变量，这个作用域称为 <b>闭包作用域</b>。\n"
   ]
  },
  {
   "cell_type": "code",
   "execution_count": 6,
   "id": "combined-relationship",
   "metadata": {},
   "outputs": [
    {
     "name": "stdout",
     "output_type": "stream",
     "text": [
      "<class 'function'>\n",
      "40\n"
     ]
    }
   ],
   "source": [
    "def funX(x):\n",
    "    def funY(y):\n",
    "        return x * y\n",
    "\n",
    "    return funY\n",
    "\n",
    "\n",
    "i = funX(8)\n",
    "print(type(i))  # <class 'function'>\n",
    "print(i(5))  # 40"
   ]
  },
  {
   "cell_type": "code",
   "execution_count": 7,
   "id": "concrete-proposal",
   "metadata": {},
   "outputs": [
    {
     "name": "stdout",
     "output_type": "stream",
     "text": [
      "3\n",
      "2\n",
      "0\n"
     ]
    }
   ],
   "source": [
    "def make_counter(init):\n",
    "    counter = [init]\n",
    "\n",
    "    def inc(): counter[0] += 1\n",
    "\n",
    "    def dec(): counter[0] -= 1\n",
    "\n",
    "    def get(): return counter[0]\n",
    "\n",
    "    def reset(): counter[0] = init\n",
    "\n",
    "    return inc, dec, get, reset\n",
    "\n",
    "\n",
    "inc, dec, get, reset = make_counter(0)\n",
    "inc()\n",
    "inc()\n",
    "inc()\n",
    "print(get())  # 3\n",
    "dec()\n",
    "print(get())  # 2\n",
    "reset()\n",
    "print(get())  # 0"
   ]
  },
  {
   "cell_type": "markdown",
   "id": "agreed-aerospace",
   "metadata": {},
   "source": [
    "如果要修改闭包作用域中的变量则需要 `nonlocal` 关键字"
   ]
  },
  {
   "cell_type": "code",
   "execution_count": 11,
   "id": "warming-driving",
   "metadata": {},
   "outputs": [
    {
     "name": "stdout",
     "output_type": "stream",
     "text": [
      "100\n",
      "100\n"
     ]
    }
   ],
   "source": [
    "def outer():\n",
    "    num = 10\n",
    "\n",
    "    def inner():\n",
    "        nonlocal num\n",
    "        num = 100\n",
    "        print(num)\n",
    "\n",
    "    inner()\n",
    "    print(num)\n",
    "\n",
    "    \n",
    "outer()\n",
    "\n",
    "# 100\n",
    "# 100"
   ]
  },
  {
   "cell_type": "markdown",
   "id": "balanced-ferry",
   "metadata": {},
   "source": [
    "## 2. Lambda 表达式\n",
    "\n",
    "### 2.1 匿名函数的定义\n",
    "\n",
    "```\n",
    "lambda argument_list: expression\n",
    "```"
   ]
  },
  {
   "cell_type": "code",
   "execution_count": 12,
   "id": "normal-pioneer",
   "metadata": {},
   "outputs": [
    {
     "name": "stdout",
     "output_type": "stream",
     "text": [
      "30\n",
      "15\n"
     ]
    }
   ],
   "source": [
    "sumary = lambda arg1, arg2: arg1 + arg2\n",
    "print(sumary(10, 20))  # 30\n",
    "\n",
    "func = lambda *args: sum(args)\n",
    "print(func(1, 2, 3, 4, 5))  # 15"
   ]
  },
  {
   "cell_type": "markdown",
   "id": "geological-supplement",
   "metadata": {},
   "source": [
    "### 2.2 匿名函数的应用\n",
    "\n",
    "函数式编程 是指代码中每一块都是不可变的，都由纯函数的形式组成。这里的纯函数，是指函数本身相互独立、互不影响，对于相同的输入，总会有相同的输出，没有任何副作用。"
   ]
  },
  {
   "cell_type": "code",
   "execution_count": null,
   "id": "resistant-scale",
   "metadata": {},
   "outputs": [],
   "source": [
    "##### 非函数式编程\n",
    "def f(x):\n",
    "    for i in range(0, len(x)):\n",
    "        x[i] += 10\n",
    "    return x\n",
    "\n",
    "##### 函数式编程\n",
    "def f(x):\n",
    "    y = []\n",
    "    for item in x:\n",
    "        y.append(item + 10)\n",
    "    return y"
   ]
  },
  {
   "cell_type": "markdown",
   "id": "based-breast",
   "metadata": {},
   "source": [
    "匿名函数 常常应用于函数式编程的高阶函数 (high-order function)中，主要有两种形式：\n",
    "- 参数是函数 (filter, map)\n",
    "- 返回值是函数 (closure)\n",
    "\n",
    "\n",
    "如，在 `filter`和`map`函数中的应用：\n",
    "\n",
    "- `filter(function, iterable)` 过滤序列，过滤掉不符合条件的元素，返回一个迭代器对象，如果要转换为列表，可以使用 `list()` 来转换。"
   ]
  },
  {
   "cell_type": "code",
   "execution_count": 13,
   "id": "pleasant-annual",
   "metadata": {},
   "outputs": [
    {
     "name": "stdout",
     "output_type": "stream",
     "text": [
      "[1, 3, 5, 7, 9]\n"
     ]
    }
   ],
   "source": [
    "odd = lambda x: x % 2 == 1\n",
    "templist = filter(odd, [1, 2, 3, 4, 5, 6, 7, 8, 9])\n",
    "print(list(templist))  # [1, 3, 5, 7, 9]"
   ]
  },
  {
   "cell_type": "code",
   "execution_count": 14,
   "id": "spectacular-simpson",
   "metadata": {},
   "outputs": [
    {
     "name": "stdout",
     "output_type": "stream",
     "text": [
      "[3, 7, 11, 15, 19]\n"
     ]
    }
   ],
   "source": [
    "m2 = map(lambda x, y: x + y, [1, 3, 5, 7, 9], [2, 4, 6, 8, 10])\n",
    "print(list(m2))  \n",
    "# [3, 7, 11, 15, 19]"
   ]
  },
  {
   "cell_type": "markdown",
   "id": "bright-seller",
   "metadata": {},
   "source": [
    "除了 Python 这些内置函数，我们也可以自己定义高阶函数。"
   ]
  },
  {
   "cell_type": "code",
   "execution_count": null,
   "id": "interpreted-polls",
   "metadata": {},
   "outputs": [],
   "source": [
    "\n",
    "def apply_to_list(fun, some_list):\n",
    "    return fun(some_list)\n",
    "\n",
    "lst = [1, 2, 3, 4, 5]\n",
    "print(apply_to_list(sum, lst))\n",
    "# 15\n",
    "\n",
    "print(apply_to_list(len, lst))\n",
    "# 5\n",
    "\n",
    "print(apply_to_list(lambda x: sum(x) / len(x), lst))\n",
    "# 3.0"
   ]
  },
  {
   "cell_type": "markdown",
   "id": "quality-visiting",
   "metadata": {},
   "source": [
    "## 3.类与对象\n",
    "- 继承：子类自动共享父类之间数据和方法的机制"
   ]
  },
  {
   "cell_type": "code",
   "execution_count": 15,
   "id": "classical-circumstances",
   "metadata": {},
   "outputs": [
    {
     "name": "stdout",
     "output_type": "stream",
     "text": [
      "[1, 2, 5, 7, 8, 9]\n"
     ]
    }
   ],
   "source": [
    "class MyList(list):\n",
    "    pass\n",
    "\n",
    "\n",
    "lst = MyList([1, 5, 2, 7, 8])\n",
    "lst.append(9)\n",
    "lst.sort()\n",
    "print(lst)\n",
    "\n",
    "# [1, 2, 5, 7, 8, 9]"
   ]
  },
  {
   "cell_type": "markdown",
   "id": "regulated-synthesis",
   "metadata": {},
   "source": [
    "- 多态：不同对象对同一方法响应不同的行动"
   ]
  },
  {
   "cell_type": "code",
   "execution_count": 16,
   "id": "sorted-evans",
   "metadata": {},
   "outputs": [
    {
     "name": "stdout",
     "output_type": "stream",
     "text": [
      "pig is walking\n"
     ]
    }
   ],
   "source": [
    "class Animal:\n",
    "    def run(self):\n",
    "        raise AttributeError('子类必须实现这个方法')\n",
    "\n",
    "class People(Animal):\n",
    "    def run(self):\n",
    "        print('人正在走')\n",
    "\n",
    "class Pig(Animal):\n",
    "    def run(self):\n",
    "        print('pig is walking')\n",
    "\n",
    "def func(animal):\n",
    "    animal.run()\n",
    "\n",
    "\n",
    "func(Pig())\n",
    "# pig is walking"
   ]
  },
  {
   "cell_type": "markdown",
   "id": "driving-assist",
   "metadata": {},
   "source": [
    "类的方法与普通的函数只有一个特别的区别 —— 它们必须有一个额外的第一个参数名称（对应于该实例，即该对象本身），按照惯例它的名称是 `self`。在调用方法时，我们无需明确提供与参数 `self` 相对应的参数。"
   ]
  },
  {
   "cell_type": "code",
   "execution_count": 17,
   "id": "handed-insulin",
   "metadata": {},
   "outputs": [
    {
     "name": "stdout",
     "output_type": "stream",
     "text": [
      "我叫球A,该死的，谁踢我...\n"
     ]
    }
   ],
   "source": [
    "class Ball:\n",
    "    def setName(self, name):\n",
    "        self.name = name\n",
    "\n",
    "    def kick(self):\n",
    "        print(\"我叫%s,该死的，谁踢我...\" % self.name)\n",
    "\n",
    "a = Ball()\n",
    "a.setName(\"球A\")\n",
    "a.kick()"
   ]
  },
  {
   "cell_type": "markdown",
   "id": "exotic-jerusalem",
   "metadata": {},
   "source": [
    "### 3.1 Python 的魔法方法\n",
    "\n",
    "如果你的对象实现了这些方法中的某一个，那么这个方法就会在特殊的情况下被 Python 所调用，而这一切都是自动发生的...\n",
    "\n",
    "类有一个名为`__init__(self[, param1, param2...])`的魔法方法，该方法在类实例化时会自动调用。\n"
   ]
  },
  {
   "cell_type": "code",
   "execution_count": 18,
   "id": "korean-translator",
   "metadata": {},
   "outputs": [
    {
     "name": "stdout",
     "output_type": "stream",
     "text": [
      "我叫球A,该死的，谁踢我...\n"
     ]
    }
   ],
   "source": [
    "class Ball:\n",
    "    def __init__(self, name):\n",
    "        self.name = name\n",
    "\n",
    "    def kick(self):\n",
    "        print(\"我叫%s,该死的，谁踢我...\" % self.name)\n",
    "\n",
    "\n",
    "a = Ball(\"球A\")\n",
    "a.kick()\n",
    "# 我叫球A,该死的，谁踢我..."
   ]
  },
  {
   "cell_type": "markdown",
   "id": "polish-peoples",
   "metadata": {},
   "source": [
    "### 3.2 公有和私有\n",
    "\n",
    "在 Python 中定义私有变量只需要在变量名或函数名前加上“__”两个下划线，那么这个函数或变量就会为私有的了。"
   ]
  },
  {
   "cell_type": "code",
   "execution_count": null,
   "id": "acquired-employee",
   "metadata": {},
   "outputs": [],
   "source": [
    "class JustCounter:\n",
    "    __secretCount = 0  # 私有变量\n",
    "    publicCount = 0  # 公开变量\n",
    "\n",
    "    def count(self):\n",
    "        self.__secretCount += 1\n",
    "        self.publicCount += 1\n",
    "        print(self.__secretCount)\n",
    "\n",
    "\n",
    "counter = JustCounter()\n",
    "counter.count()  # 1\n",
    "counter.count()  # 2\n",
    "print(counter.publicCount)  # 2\n",
    "\n",
    "# Python的私有为伪私有\n",
    "print(counter._JustCounter__secretCount)  # 2 \n",
    "print(counter.__secretCount)  "
   ]
  },
  {
   "cell_type": "markdown",
   "id": "different-inspiration",
   "metadata": {},
   "source": [
    "类的私有方法"
   ]
  },
  {
   "cell_type": "code",
   "execution_count": 20,
   "id": "charged-female",
   "metadata": {},
   "outputs": [],
   "source": [
    "class Site:\n",
    "    def __init__(self, name, url):\n",
    "        self.name = name  # public\n",
    "        self.__url = url  # private\n",
    "        \n",
    "    def __foo(self):  # 私有方法\n",
    "        print('这是私有方法')\n",
    "\n",
    "    def foo(self):  # 公共方法\n",
    "        print('这是公共方法')\n",
    "        self.__foo()"
   ]
  },
  {
   "cell_type": "code",
   "execution_count": 24,
   "id": "trained-contributor",
   "metadata": {},
   "outputs": [
    {
     "name": "stdout",
     "output_type": "stream",
     "text": [
      "这是公共方法\n",
      "这是私有方法\n"
     ]
    },
    {
     "ename": "AttributeError",
     "evalue": "'Site' object has no attribute '__foo'",
     "output_type": "error",
     "traceback": [
      "\u001b[0;31m---------------------------------------------------------------------------\u001b[0m",
      "\u001b[0;31mAttributeError\u001b[0m                            Traceback (most recent call last)",
      "\u001b[0;32m<ipython-input-24-5f162b101565>\u001b[0m in \u001b[0;36m<module>\u001b[0;34m\u001b[0m\n\u001b[1;32m      3\u001b[0m \u001b[0mx\u001b[0m\u001b[0;34m.\u001b[0m\u001b[0mfoo\u001b[0m\u001b[0;34m(\u001b[0m\u001b[0;34m)\u001b[0m\u001b[0;34m\u001b[0m\u001b[0;34m\u001b[0m\u001b[0m\n\u001b[1;32m      4\u001b[0m \u001b[0;34m\u001b[0m\u001b[0m\n\u001b[0;32m----> 5\u001b[0;31m \u001b[0mx\u001b[0m\u001b[0;34m.\u001b[0m\u001b[0m__foo\u001b[0m\u001b[0;34m(\u001b[0m\u001b[0;34m)\u001b[0m\u001b[0;34m\u001b[0m\u001b[0;34m\u001b[0m\u001b[0m\n\u001b[0m\u001b[1;32m      6\u001b[0m \u001b[0;31m# AttributeError: 'Site' object has no attribute '__foo'\u001b[0m\u001b[0;34m\u001b[0m\u001b[0;34m\u001b[0m\u001b[0;34m\u001b[0m\u001b[0m\n",
      "\u001b[0;31mAttributeError\u001b[0m: 'Site' object has no attribute '__foo'"
     ]
    }
   ],
   "source": [
    "x = Site('老马的程序人生', 'https://blog.csdn.net/LSGO_MYP')\n",
    "\n",
    "x.foo()\n",
    "\n",
    "x.__foo()\n",
    "# AttributeError: 'Site' object has no attribute '__foo'"
   ]
  },
  {
   "cell_type": "markdown",
   "id": "fuzzy-understanding",
   "metadata": {},
   "source": [
    "### 3.3 继承\n",
    "```\n",
    "class DerivedClassName(BaseClassName):\n",
    "       statement-1\n",
    "              .\n",
    "              .\n",
    "              .\n",
    "       statement-N\n",
    "```\n",
    "`BaseClassName`（基类名）必须与派生类定义在一个作用域内。除了类，还可以用表达式，基类定义在另一个模块中时这一点非常有用：\n",
    "```\n",
    "class DerivedClassName(modname.BaseClassName):\n",
    "       statement-1\n",
    "              .\n",
    "              .\n",
    "              .\n",
    "       statement-N\n",
    "```"
   ]
  },
  {
   "cell_type": "code",
   "execution_count": null,
   "id": "scientific-atlas",
   "metadata": {},
   "outputs": [],
   "source": [
    "# 类定义\n",
    "class people:\n",
    "    # 定义基本属性\n",
    "    name = ''\n",
    "    age = 0\n",
    "    # 定义私有属性,私有属性在类外部无法直接进行访问\n",
    "    __weight = 0\n",
    "\n",
    "    # 定义构造方法\n",
    "    def __init__(self, n, a, w):\n",
    "        self.name = n\n",
    "        self.age = a\n",
    "        self.__weight = w\n",
    "\n",
    "    def speak(self):\n",
    "        print(\"%s 说: 我 %d 岁。\" % (self.name, self.age))\n",
    "\n",
    "\n",
    "# 单继承示例\n",
    "class student(people):\n",
    "    grade = ''\n",
    "\n",
    "    def __init__(self, n, a, w, g):\n",
    "        # 调用父类的构函\n",
    "        people.__init__(self, n, a, w)\n",
    "        self.grade = g\n",
    "\n",
    "    # 覆写父类的方法\n",
    "    def speak(self):\n",
    "        print(\"%s 说: 我 %d 岁了，我在读 %d 年级\" % (self.name, self.age, self.grade))\n",
    "\n",
    "\n",
    "s = student('小马的程序人生', 10, 60, 3)\n",
    "s.speak()\n",
    "# 小马的程序人生 说: 我 10 岁了，我在读 3 年级"
   ]
  },
  {
   "cell_type": "markdown",
   "id": "better-twelve",
   "metadata": {},
   "source": [
    "### 3.4 组合"
   ]
  },
  {
   "cell_type": "code",
   "execution_count": 25,
   "id": "intermediate-baseball",
   "metadata": {},
   "outputs": [
    {
     "name": "stdout",
     "output_type": "stream",
     "text": [
      "水池里面有乌龟2只，小鱼3条\n"
     ]
    }
   ],
   "source": [
    "class Turtle:\n",
    "    def __init__(self, x):\n",
    "        self.num = x\n",
    "\n",
    "\n",
    "class Fish:\n",
    "    def __init__(self, x):\n",
    "        self.num = x\n",
    "\n",
    "\n",
    "class Pool:\n",
    "    def __init__(self, x, y):\n",
    "        self.turtle = Turtle(x)\n",
    "        self.fish = Fish(y)\n",
    "\n",
    "    def print_num(self):\n",
    "        print(\"水池里面有乌龟%s只，小鱼%s条\" % (self.turtle.num, self.fish.num))\n",
    "\n",
    "\n",
    "p = Pool(2, 3)\n",
    "p.print_num()\n",
    "# 水池里面有乌龟2只，小鱼3条"
   ]
  },
  {
   "cell_type": "markdown",
   "id": "arabic-innocent",
   "metadata": {},
   "source": [
    "### 3.5 类、类对象和实例对象\n",
    "![类对象和实例对象](https://img-blog.csdnimg.cn/20191007090316462.png)\n",
    "\n",
    "类对象：创建一个类，其实也是一个对象也在内存开辟了一块空间，称为类对象，类对象只有一个。\n",
    "\n",
    "实例对象：就是通过实例化类创建的对象，称为实例对象，实例对象可以有多个。"
   ]
  },
  {
   "cell_type": "markdown",
   "id": "secret-mongolia",
   "metadata": {},
   "source": [
    "### 3.6 什么是绑定？\n",
    "\n",
    "Python 严格要求方法需要有实例才能被调用，这种限制其实就是 Python 所谓的绑定概念。\n",
    "\n",
    "Python 对象的数据属性通常存储在名为`.__ dict__`的字典中，我们可以直接访问`__dict__`，或利用 Python 的内置函数`vars()`获取`.__ dict__`。"
   ]
  },
  {
   "cell_type": "code",
   "execution_count": 26,
   "id": "collect-cradle",
   "metadata": {},
   "outputs": [
    {
     "name": "stdout",
     "output_type": "stream",
     "text": [
      "{}\n",
      "{}\n",
      "{'__module__': '__main__', 'setXY': <function CC.setXY at 0x7fa7714d9ca0>, 'printXY': <function CC.printXY at 0x7fa7714d99d0>, '__dict__': <attribute '__dict__' of 'CC' objects>, '__weakref__': <attribute '__weakref__' of 'CC' objects>, '__doc__': None}\n",
      "{'x': 4, 'y': 5}\n",
      "{'__module__': '__main__', 'setXY': <function CC.setXY at 0x7fa7714d9ca0>, 'printXY': <function CC.printXY at 0x7fa7714d99d0>, '__dict__': <attribute '__dict__' of 'CC' objects>, '__weakref__': <attribute '__weakref__' of 'CC' objects>, '__doc__': None}\n",
      "{'__module__': '__main__', 'setXY': <function CC.setXY at 0x7fa7714d9ca0>, 'printXY': <function CC.printXY at 0x7fa7714d99d0>, '__dict__': <attribute '__dict__' of 'CC' objects>, '__weakref__': <attribute '__weakref__' of 'CC' objects>, '__doc__': None}\n"
     ]
    }
   ],
   "source": [
    "class CC:\n",
    "    def setXY(self, x, y):\n",
    "        self.x = x\n",
    "        self.y = y\n",
    "\n",
    "    def printXY(self):\n",
    "        print(self.x, self.y)\n",
    "\n",
    "\n",
    "dd = CC()\n",
    "print(dd.__dict__)\n",
    "# {}\n",
    "\n",
    "print(vars(dd))\n",
    "# {}\n",
    "\n",
    "print(CC.__dict__)\n",
    "# {'__module__': '__main__', 'setXY': <function CC.setXY at 0x000000C3473DA048>, 'printXY': <function CC.printXY at 0x000000C3473C4F28>, '__dict__': <attribute '__dict__' of 'CC' objects>, '__weakref__': <attribute '__weakref__' of 'CC' objects>, '__doc__': None}\n",
    "\n",
    "dd.setXY(4, 5)\n",
    "print(dd.__dict__)\n",
    "# {'x': 4, 'y': 5}\n",
    "\n",
    "print(vars(CC))\n",
    "# {'__module__': '__main__', 'setXY': <function CC.setXY at 0x000000632CA9B048>, 'printXY': <function CC.printXY at 0x000000632CA83048>, '__dict__': <attribute '__dict__' of 'CC' objects>, '__weakref__': <attribute '__weakref__' of 'CC' objects>, '__doc__': None}\n",
    "\n",
    "print(CC.__dict__)\n",
    "# {'__module__': '__main__', 'setXY': <function CC.setXY at 0x000000632CA9B048>, 'printXY': <function CC.printXY at 0x000000632CA83048>, '__dict__': <attribute '__dict__' of 'CC' objects>, '__weakref__': <attribute '__weakref__' of 'CC' objects>, '__doc__': None}"
   ]
  }
 ],
 "metadata": {
  "kernelspec": {
   "display_name": "Python 3",
   "language": "python",
   "name": "python3"
  },
  "language_info": {
   "codemirror_mode": {
    "name": "ipython",
    "version": 3
   },
   "file_extension": ".py",
   "mimetype": "text/x-python",
   "name": "python",
   "nbconvert_exporter": "python",
   "pygments_lexer": "ipython3",
   "version": "3.8.5"
  }
 },
 "nbformat": 4,
 "nbformat_minor": 5
}
