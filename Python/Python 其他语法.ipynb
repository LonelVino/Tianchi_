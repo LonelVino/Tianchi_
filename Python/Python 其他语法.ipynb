{
 "cells": [
  {
   "cell_type": "markdown",
   "id": "viral-clinton",
   "metadata": {},
   "source": [
    "## `__slots__` Magic\n",
    "\n",
    "In Python every class can have instance attributes. By default Python uses a `dict` to store an object’s instance attributes.\n",
    "\n",
    "The ` dict `wastes a lot of RAM. Python can’t just allocate a static amount of memory at object creation to store all the attributes. \n",
    "\n",
    "It involves the usage of `__slots__` to tell Python not to use a `dict`, and only allocate space for a fixed `set` of attributes.\n",
    "\n",
    "The following piece of code will reduce the burden on your RAM."
   ]
  },
  {
   "cell_type": "code",
   "execution_count": 1,
   "id": "dress-broad",
   "metadata": {},
   "outputs": [],
   "source": [
    "class MyClass(object):\n",
    "    __slots__ = ['name', 'identifier']\n",
    "    def __init__(self, name, identifier):\n",
    "        self.name = name\n",
    "        self.identifier = identifier\n",
    "        self.set_up()\n",
    "    # ..."
   ]
  },
  {
   "cell_type": "markdown",
   "id": "distant-barbados",
   "metadata": {},
   "source": [
    "## Enumerate"
   ]
  },
  {
   "cell_type": "code",
   "execution_count": 2,
   "id": "breathing-accordance",
   "metadata": {},
   "outputs": [
    {
     "name": "stdout",
     "output_type": "stream",
     "text": [
      "0 apple\n",
      "1 banana\n",
      "2 grapes\n",
      "3 pear\n"
     ]
    }
   ],
   "source": [
    "my_list = ['apple', 'banana']\n",
    "for Counter, value in enumerate(my_list):\n",
    "    print(Counter, value)"
   ]
  },
  {
   "cell_type": "markdown",
   "id": "recreational-portsmouth",
   "metadata": {},
   "source": [
    "And `numerate ` also accepts an optional argument that allows us to specify the starting index of the counter."
   ]
  },
  {
   "cell_type": "code",
   "execution_count": 4,
   "id": "swedish-shock",
   "metadata": {},
   "outputs": [
    {
     "name": "stdout",
     "output_type": "stream",
     "text": [
      "1 apple\n",
      "2 banana\n"
     ]
    }
   ],
   "source": [
    "my_list = ['apple', 'banana']\n",
    "for Counter, value in enumerate(my_list, 1):\n",
    "    print(Counter, value)"
   ]
  },
  {
   "cell_type": "markdown",
   "id": "promising-binding",
   "metadata": {},
   "source": [
    "## Unzip and zip\n",
    "### 1. zip\n",
    "Allow us combine two lists easily.\n",
    "\n",
    "After calling zip, an iterator is returned. In order to see the content wrapped inside, we need to first convert it to a list."
   ]
  },
  {
   "cell_type": "code",
   "execution_count": 6,
   "id": "going-gates",
   "metadata": {},
   "outputs": [
    {
     "name": "stdout",
     "output_type": "stream",
     "text": [
      "[('Joe', 'Schmoe', 23), ('Earnst', 'Ehlmann', 65), ('Thomas', 'Fischer', 11), ('Martin', 'Walter', 36), ('Charles', 'Rogan', 83)]\n",
      "Joe Schmoe is 23 years old\n",
      "Earnst Ehlmann is 65 years old\n",
      "Thomas Fischer is 11 years old\n",
      "Martin Walter is 36 years old\n",
      "Charles Rogan is 83 years old\n"
     ]
    }
   ],
   "source": [
    "first_name = ['Joe','Earnst','Thomas','Martin','Charles']\n",
    "last_name = ['Schmoe','Ehlmann','Fischer','Walter','Rogan','Green']\n",
    "age = [23, 65, 11, 36, 83]\n",
    "print(list(zip(first_name,last_name, age)))\n",
    "\n",
    "for first_name, last_name, age in zip(first_name, last_name, age):\n",
    "    print(f\"{first_name} {last_name} is {age} years old\")"
   ]
  },
  {
   "cell_type": "markdown",
   "id": "flexible-cleaners",
   "metadata": {},
   "source": [
    "### 2. unzip\n",
    "\n",
    "use the zip function to unzip a list as well."
   ]
  },
  {
   "cell_type": "code",
   "execution_count": 7,
   "id": "documentary-artwork",
   "metadata": {},
   "outputs": [
    {
     "name": "stdout",
     "output_type": "stream",
     "text": [
      "first name: ('Joe', 'Earnst', 'Thomas', 'Martin', 'Charles')\n",
      "last name: ('Schmoe', 'Ehlmann', 'Fischer', 'Walter', 'Rogan') \n",
      "age: (23, 65, 11, 36, 83)\n"
     ]
    }
   ],
   "source": [
    "full_name_list = [('Joe', 'Schmoe', 23),\n",
    "                  ('Earnst', 'Ehlmann', 65),\n",
    "                  ('Thomas', 'Fischer', 11),\n",
    "                  ('Martin', 'Walter', 36),\n",
    "                  ('Charles', 'Rogan', 83)]\n",
    "\n",
    "first_name, last_name, age = list(zip(*full_name_list))\n",
    "print(f\"first name: {first_name}\\nlast name: {last_name} \\nage: {age}\")"
   ]
  }
 ],
 "metadata": {
  "kernelspec": {
   "display_name": "Python 3",
   "language": "python",
   "name": "python3"
  },
  "language_info": {
   "codemirror_mode": {
    "name": "ipython",
    "version": 3
   },
   "file_extension": ".py",
   "mimetype": "text/x-python",
   "name": "python",
   "nbconvert_exporter": "python",
   "pygments_lexer": "ipython3",
   "version": "3.8.5"
  }
 },
 "nbformat": 4,
 "nbformat_minor": 5
}
