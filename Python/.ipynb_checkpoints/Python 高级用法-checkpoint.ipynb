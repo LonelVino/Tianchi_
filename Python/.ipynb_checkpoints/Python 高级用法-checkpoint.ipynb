{
 "cells": [
  {
   "cell_type": "markdown",
   "id": "abstract-release",
   "metadata": {},
   "source": [
    "## 迭代器\n",
    "\n",
    "可以直接作用于for循环的对象统称为可迭代对象：`Iterable`\n",
    "\n",
    "一类是集合数据类型，如list、tuple、dict、set、str等；\n",
    "\n",
    "一类是generator，包括生成器和带yield的generator function。\n",
    "\n",
    "可以使用`isinstance()`判断一个对象是否是`Iterable`对象："
   ]
  },
  {
   "cell_type": "code",
   "execution_count": 2,
   "id": "israeli-launch",
   "metadata": {},
   "outputs": [
    {
     "data": {
      "text/plain": [
       "True"
      ]
     },
     "execution_count": 2,
     "metadata": {},
     "output_type": "execute_result"
    }
   ],
   "source": [
    "from collections.abc import Iterable\n",
    "isinstance([], Iterable)\n",
    "isinstance((x for x in range(10)), Iterable)"
   ]
  },
  {
   "cell_type": "markdown",
   "id": "enabling-norman",
   "metadata": {},
   "source": [
    "生成器不但可以作用于for循环，还可以被`next()`函数不断调用并返回下一个值，直到最后抛出`StopIteration`错误表示无法继续返回下一个值了。\n",
    "\n",
    "可以被`next()`函数调用并不断返回下一个值的对象称为迭代器：`Iterator`\n",
    "\n",
    "可以使用`isinstance()`判断一个对象是否是`Iterator`对象："
   ]
  },
  {
   "cell_type": "code",
   "execution_count": 6,
   "id": "apparent-arbor",
   "metadata": {},
   "outputs": [
    {
     "data": {
      "text/plain": [
       "False"
      ]
     },
     "execution_count": 6,
     "metadata": {},
     "output_type": "execute_result"
    }
   ],
   "source": [
    "from collections.abc import Iterator\n",
    "isinstance((x for x in range(10)), Iterator)\n",
    "isinstance([], Iterator)"
   ]
  },
  {
   "cell_type": "markdown",
   "id": "lonely-duncan",
   "metadata": {},
   "source": [
    "生成器都是`Iterator`对象，但list、dict、str虽然是`Iterable`，却不是`Iterator`。\n",
    "\n",
    "把list、dict、str等Iterable变成Iterator可以使用`iter()`函数"
   ]
  },
  {
   "cell_type": "code",
   "execution_count": 7,
   "id": "dying-aurora",
   "metadata": {},
   "outputs": [
    {
     "data": {
      "text/plain": [
       "True"
      ]
     },
     "execution_count": 7,
     "metadata": {},
     "output_type": "execute_result"
    }
   ],
   "source": [
    "isinstance(iter('abc'), Iterator)"
   ]
  },
  {
   "cell_type": "markdown",
   "id": "differential-management",
   "metadata": {},
   "source": [
    "`Iterator`甚至可以表示一个无限大的数据流，例如全体自然数。而使用list是永远不可能存储全体自然数的。\n",
    "\n",
    "### 小结\n",
    "凡是可作用于`for`循环的对象都是`Iterable`类型；\n",
    "\n",
    "凡是可作用于`next()`函数的对象都是`Iterator`类型，它们表示一个惰性计算的序列；\n",
    "\n",
    "集合数据类型如list、dict、str等是Iterable但不是Iterator，可以通过`ter()`函数获得一个Iterator对象。\n",
    "\n",
    "Python的for循环本质上就是通过不断调用`next()`函数实现"
   ]
  },
  {
   "cell_type": "markdown",
   "id": "mighty-intent",
   "metadata": {},
   "source": [
    "## 高阶函数\n",
    "\n",
    "### yield\n",
    " - yield在函数中的功能类似于return，不同的是yield每次返回结果之后函数并没有退出，而是 每次遇到yield关键字后返回相应结果，并保留函数当前的运行状态，等待下一次的调用\n",
    "\n",
    " - 如果 一个函数需要多次循环执行一个动作，并且每次执行的结果都是需要的，这种场景很适合使用yield实现。\n",
    "\n",
    "包含yield的函数成为一个生成器，生成器同时也是一个迭代器，支持通过next方法获取下一个值\n",
    "\n"
   ]
  },
  {
   "cell_type": "code",
   "execution_count": 23,
   "id": "destroyed-translator",
   "metadata": {},
   "outputs": [
    {
     "name": "stdout",
     "output_type": "stream",
     "text": [
      "4\n",
      "********************\n",
      "None\n",
      "4\n",
      "********************\n",
      "None\n",
      "4\n"
     ]
    }
   ],
   "source": [
    "def foo():\n",
    "    while True:\n",
    "        res = yield 4\n",
    "        print(res)\n",
    "        \n",
    "g = foo()\n",
    "print(next(g))\n",
    "print('*'*20)\n",
    "print(next(g))"
   ]
  },
  {
   "cell_type": "markdown",
   "id": "typical-worthy",
   "metadata": {},
   "source": [
    "1.程序开始执行以后，因为foo函数中有yield关键字，所以foo函数并不会真的执行，而是先得到一个生成器g(相当于一个对象)\n",
    "\n",
    "2.直到调用next方法，foo函数正式开始执行，先执行foo函数中的print方法，然后进入while循环\n",
    "\n",
    "3.程序遇到yield关键字，然后把yield想想成return,return了一个4之后，程序停止，并没有执行赋值给res操作，此时next(g)语句执行完成，所以输出的前两行（第一个是while上面的print的结果,第二个是return出的结果）是执行print(next(g))的结果，\n",
    "\n",
    "4.程序执行print(\"*\"*20)，输出20个*\n",
    "\n",
    "5.又开始执行下面的print(next(g)),这个时候和上面那个差不多，不过不同的是，这个时候是从刚才那个next程序停止的地方开始执行的，也就是要执行res的赋值操作，这时候要注意，这个时候赋值操作的右边是没有值的（因为刚才那个是return出去了，并没有给赋值操作的左边传参数），所以这个时候res赋值是None,所以接着下面的输出就是res:None,\n",
    "\n",
    "6.程序会继续在while里执行，又一次碰到yield,这个时候同样return 出4，然后程序停止，print函数输出的4就是这次return出的4.\n",
    "\n",
    " \n",
    "\n",
    "yield和return的关系和区别:带yield的函数是一个生成器，而不是一个函数了，这个生成器有一个函数就是next函数，next就相当于“下一步”生成哪个数，这一次的next开始的地方是接着上一次的next停止的地方执行的，所以调用next的时候，生成器并不会从foo函数的开始执行，只是接着上一步停止的地方开始，然后遇到yield后，return出要生成的数，此步就结束。\n"
   ]
  },
  {
   "cell_type": "markdown",
   "id": "greek-outline",
   "metadata": {},
   "source": [
    "### map/reduce\n",
    "\n",
    "#### map\n",
    "`map()`函数接收两个参数，一个是函数，一个是`Iterable`，`map`将传入的函数依次作用到序列的每个元素，并把结果作为新的`Iterator`返回。\n",
    "\n",
    "比如我们有一个函数 f(x) = x^2, 现在需要将这个函数作用在一个list=[1,2,3,4,5,6,7], 可以使用`map`实现:"
   ]
  },
  {
   "cell_type": "code",
   "execution_count": 9,
   "id": "apparent-saudi",
   "metadata": {},
   "outputs": [
    {
     "name": "stdout",
     "output_type": "stream",
     "text": [
      "[1, 4, 9, 16, 25, 36, 49]\n"
     ]
    }
   ],
   "source": [
    "def f(x):\n",
    "    return x*x\n",
    "r = map(f, [1,2,3,4,5,6,7])\n",
    "print(list(r))"
   ]
  },
  {
   "cell_type": "markdown",
   "id": "discrete-panama",
   "metadata": {},
   "source": [
    "`map`传入的地哦一个参数是f， 即函数本身。由于结果r 是一个`Iterator`，`Iterator` 是惰性序列。因此通过`list()`函数可以让他把整个序列都计算出来并返回一个list."
   ]
  },
  {
   "cell_type": "code",
   "execution_count": 11,
   "id": "challenging-variety",
   "metadata": {},
   "outputs": [
    {
     "name": "stdout",
     "output_type": "stream",
     "text": [
      "[1, 4, 9, 16, 25, 36, 49, 64, 81]\n"
     ]
    }
   ],
   "source": [
    "L = []\n",
    "for n in range(1,10):\n",
    "    L.append(f(n))\n",
    "print(L)"
   ]
  },
  {
   "cell_type": "markdown",
   "id": "welcome-skiing",
   "metadata": {},
   "source": [
    "把list所有数字转化为字符串"
   ]
  },
  {
   "cell_type": "code",
   "execution_count": null,
   "id": "functional-colony",
   "metadata": {},
   "outputs": [],
   "source": [
    "list(map(str, [1,2,23,4,4,4,5]))"
   ]
  },
  {
   "cell_type": "markdown",
   "id": "rotary-alert",
   "metadata": {},
   "source": [
    "#### Reduce\n",
    "\n",
    "`reduce`把一个函数作用在一个序列`[x1, x2, x3, ...]`上，这个函数必须接收两个参数，`reduce`把结果继续和序列的下一个元素做累积计算，其效果就是：\n",
    "```\n",
    "reduce(f,[x1,x2,x3,x4]) = f(f(f(x1,x2,),x3), x4)\n",
    "```\n",
    "以下实例是对一个序列求和"
   ]
  },
  {
   "cell_type": "code",
   "execution_count": 13,
   "id": "accredited-fellowship",
   "metadata": {},
   "outputs": [
    {
     "name": "stdout",
     "output_type": "stream",
     "text": [
      "16\n"
     ]
    }
   ],
   "source": [
    "from functools import reduce\n",
    "def add(x, y):\n",
    "    return x+y\n",
    "\n",
    "output = reduce(add, [1,3,5,7])\n",
    "print(output)"
   ]
  },
  {
   "cell_type": "markdown",
   "id": "descending-assurance",
   "metadata": {},
   "source": [
    "把字符串转化为数字："
   ]
  },
  {
   "cell_type": "code",
   "execution_count": 17,
   "id": "orange-pricing",
   "metadata": {},
   "outputs": [],
   "source": [
    "from functools import reduce\n",
    "\n",
    "DIGITS = {'0': 0, '1': 1, '2': 2, '3': 3, '4': 4, '5': 5, '6': 6, '7': 7, '8': 8, '9': 9}\n",
    "\n",
    "def str2int(s):\n",
    "    def fn(x,y):\n",
    "        return x*10 + y\n",
    "    def char2num(s):\n",
    "        return DIGITS[s]\n",
    "    return reduce(fn,map(char2num, s))"
   ]
  },
  {
   "cell_type": "markdown",
   "id": "coral-mouse",
   "metadata": {},
   "source": [
    "### filter\n",
    "\n",
    "和`map()`类似，`filter()`也接收一个函数和一个序列。和`map()`不同的是，`filter()`把传入的函数依次作用于每个元素，然后根据返回值是True还是False决定保留还是丢弃该元素。"
   ]
  },
  {
   "cell_type": "code",
   "execution_count": 19,
   "id": "respective-diversity",
   "metadata": {},
   "outputs": [
    {
     "name": "stdout",
     "output_type": "stream",
     "text": [
      "[1, 3, 5]\n"
     ]
    }
   ],
   "source": [
    "def is_odd(x):\n",
    "    return x%2 == 1\n",
    "\n",
    "filtered = filter(is_odd, [1,2,3,4,5,6])\n",
    "print(list(filtered))"
   ]
  },
  {
   "cell_type": "markdown",
   "id": "bacterial-saskatchewan",
   "metadata": {},
   "source": [
    "`filter()`函数返回的是一个`Iterator`，也就是一个惰性序列，所以要强迫`filter()`完成计算结果，需要用list()函数获得所有结果并返回list。"
   ]
  },
  {
   "cell_type": "markdown",
   "id": "legal-accent",
   "metadata": {},
   "source": [
    "#### 用filter求素数\n",
    "\n",
    "构造一个从3开始的序列"
   ]
  },
  {
   "cell_type": "code",
   "execution_count": 32,
   "id": "right-sending",
   "metadata": {},
   "outputs": [],
   "source": [
    "def _odd_iter():\n",
    "    n  = 1\n",
    "    while True:\n",
    "        n  = n + 2\n",
    "        yield n"
   ]
  },
  {
   "cell_type": "markdown",
   "id": "colored-payment",
   "metadata": {},
   "source": [
    "这是一个生成器，并且是一个无限序列， 然后定义一个筛选函数："
   ]
  },
  {
   "cell_type": "code",
   "execution_count": 36,
   "id": "suited-account",
   "metadata": {},
   "outputs": [
    {
     "data": {
      "text/plain": [
       "True"
      ]
     },
     "execution_count": 36,
     "metadata": {},
     "output_type": "execute_result"
    }
   ],
   "source": [
    "def _not_divisible(n):\n",
    "    return lambda x: x%n >0"
   ]
  },
  {
   "cell_type": "markdown",
   "id": "alone-appliance",
   "metadata": {},
   "source": [
    "最后定义一个生成器，不断返回下一个素数："
   ]
  },
  {
   "cell_type": "code",
   "execution_count": 28,
   "id": "cognitive-plaza",
   "metadata": {},
   "outputs": [],
   "source": [
    "def primes():\n",
    "    yield 2\n",
    "    it = _odd_iter()\n",
    "    while True:\n",
    "        n = next(it)\n",
    "        yield n\n",
    "        it = filter(_not_divisible(n), it)"
   ]
  },
  {
   "cell_type": "markdown",
   "id": "boring-clone",
   "metadata": {},
   "source": [
    "这个生成器先返回第一个素数2，然后，利用`filter()`不断产生筛选后的新的序列。\n",
    "\n",
    "由于`primes()`也是一个无限序列，所以调用时需要设置一个退出循环的条件："
   ]
  },
  {
   "cell_type": "code",
   "execution_count": 33,
   "id": "professional-affair",
   "metadata": {},
   "outputs": [
    {
     "name": "stdout",
     "output_type": "stream",
     "text": [
      "2\n",
      "3\n",
      "5\n",
      "7\n",
      "11\n",
      "13\n",
      "17\n",
      "19\n",
      "23\n",
      "29\n",
      "31\n",
      "37\n",
      "41\n",
      "43\n",
      "47\n",
      "53\n",
      "59\n",
      "61\n",
      "67\n",
      "71\n",
      "73\n",
      "79\n",
      "83\n",
      "89\n",
      "97\n",
      "101\n",
      "103\n",
      "107\n",
      "109\n",
      "113\n",
      "127\n",
      "131\n",
      "137\n",
      "139\n",
      "149\n",
      "151\n",
      "157\n",
      "163\n",
      "167\n",
      "173\n",
      "179\n",
      "181\n",
      "191\n",
      "193\n",
      "197\n",
      "199\n",
      "211\n",
      "223\n",
      "227\n",
      "229\n",
      "233\n",
      "239\n",
      "241\n",
      "251\n",
      "257\n",
      "263\n",
      "269\n",
      "271\n",
      "277\n",
      "281\n",
      "283\n",
      "293\n",
      "307\n",
      "311\n",
      "313\n",
      "317\n",
      "331\n",
      "337\n",
      "347\n",
      "349\n",
      "353\n",
      "359\n",
      "367\n",
      "373\n",
      "379\n",
      "383\n",
      "389\n",
      "397\n",
      "401\n",
      "409\n",
      "419\n",
      "421\n",
      "431\n",
      "433\n",
      "439\n",
      "443\n",
      "449\n",
      "457\n",
      "461\n",
      "463\n",
      "467\n",
      "479\n",
      "487\n",
      "491\n",
      "499\n",
      "503\n",
      "509\n",
      "521\n",
      "523\n",
      "541\n",
      "547\n",
      "557\n",
      "563\n",
      "569\n",
      "571\n",
      "577\n",
      "587\n",
      "593\n",
      "599\n",
      "601\n",
      "607\n",
      "613\n",
      "617\n",
      "619\n",
      "631\n",
      "641\n",
      "643\n",
      "647\n",
      "653\n",
      "659\n",
      "661\n",
      "673\n",
      "677\n",
      "683\n",
      "691\n",
      "701\n",
      "709\n",
      "719\n",
      "727\n",
      "733\n",
      "739\n",
      "743\n",
      "751\n",
      "757\n",
      "761\n",
      "769\n",
      "773\n",
      "787\n",
      "797\n",
      "809\n",
      "811\n",
      "821\n",
      "823\n",
      "827\n",
      "829\n",
      "839\n",
      "853\n",
      "857\n",
      "859\n",
      "863\n",
      "877\n",
      "881\n",
      "883\n",
      "887\n",
      "907\n",
      "911\n",
      "919\n",
      "929\n",
      "937\n",
      "941\n",
      "947\n",
      "953\n",
      "967\n",
      "971\n",
      "977\n",
      "983\n",
      "991\n",
      "997\n"
     ]
    }
   ],
   "source": [
    "# 打印1000以内的素数:\n",
    "for n in primes():\n",
    "    if n < 1000:\n",
    "        print(n)\n",
    "    else:\n",
    "        break"
   ]
  },
  {
   "cell_type": "markdown",
   "id": "explicit-compatibility",
   "metadata": {},
   "source": [
    "### 返回函数\n",
    "\n",
    "#### 函数作为返回值\n",
    "\n",
    "不需要立刻求和，而是在后面的代码中，根据需要再计算 ---- 返回求和的函数：\n",
    "\n"
   ]
  },
  {
   "cell_type": "code",
   "execution_count": 38,
   "id": "controversial-better",
   "metadata": {},
   "outputs": [],
   "source": [
    "def lazy_sum(*args):\n",
    "    def sum():\n",
    "        ax = 0\n",
    "        for n in args:\n",
    "            ax = ax + n\n",
    "        return ax\n",
    "    return sum"
   ]
  },
  {
   "cell_type": "markdown",
   "id": "removable-pressure",
   "metadata": {},
   "source": [
    "当我们调用lazy_sum()时，返回的并不是求和结果，而是求和函数"
   ]
  },
  {
   "cell_type": "code",
   "execution_count": 39,
   "id": "charitable-tobacco",
   "metadata": {},
   "outputs": [
    {
     "name": "stdout",
     "output_type": "stream",
     "text": [
      "<function lazy_sum.<locals>.sum at 0x7f1c92e37550>\n"
     ]
    }
   ],
   "source": [
    "f = lazy_sum(1,3,5,7,9)\n",
    "print(f)"
   ]
  },
  {
   "cell_type": "code",
   "execution_count": 40,
   "id": "geographic-account",
   "metadata": {},
   "outputs": [
    {
     "data": {
      "text/plain": [
       "25"
      ]
     },
     "execution_count": 40,
     "metadata": {},
     "output_type": "execute_result"
    }
   ],
   "source": [
    "f()"
   ]
  },
  {
   "cell_type": "markdown",
   "id": "joint-found",
   "metadata": {},
   "source": [
    "#### 闭包\n",
    "\n",
    "注意到返回的函数在其定义内部引用了局部变量args，所以，当一个函数返回了一个函数后，其内部的局部变量还被新函数引用，所以，闭包用起来简单，实现起来可不容易。"
   ]
  }
 ],
 "metadata": {
  "kernelspec": {
   "display_name": "Python 3",
   "language": "python",
   "name": "python3"
  },
  "language_info": {
   "codemirror_mode": {
    "name": "ipython",
    "version": 3
   },
   "file_extension": ".py",
   "mimetype": "text/x-python",
   "name": "python",
   "nbconvert_exporter": "python",
   "pygments_lexer": "ipython3",
   "version": "3.8.5"
  }
 },
 "nbformat": 4,
 "nbformat_minor": 5
}
