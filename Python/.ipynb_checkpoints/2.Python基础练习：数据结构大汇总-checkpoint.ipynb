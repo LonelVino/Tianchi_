{
 "cells": [
  {
   "cell_type": "markdown",
   "id": "dress-packaging",
   "metadata": {},
   "source": [
    "# Python基础练习：数据结构大汇总\n",
    "\n",
    "## 1 列表\n",
    "\n",
    "### 1.1 向列表中添加元素\n",
    "此元素如果是一个 list，那么这个 list 将作为一个整体进行追加，注意`append()`和`extend()`的区别。\n"
   ]
  },
  {
   "cell_type": "code",
   "execution_count": 1,
   "id": "rational-skill",
   "metadata": {},
   "outputs": [
    {
     "name": "stdout",
     "output_type": "stream",
     "text": [
      "['Monday', 'Tuesday', 'Wednesday', 'Thursday', 'Friday', ['Thursday', 'Sunday']] 6\n",
      "['Monday', 'Tuesday', 'Wednesday', 'Thursday', 'Friday', 'Thursday', 'Sunday'] 7\n"
     ]
    }
   ],
   "source": [
    "x = ['Monday', 'Tuesday', 'Wednesday', 'Thursday', 'Friday']\n",
    "x.append(['Thursday', 'Sunday'])\n",
    "print(x, len(x))\n",
    "\n",
    "y = ['Monday', 'Tuesday', 'Wednesday', 'Thursday', 'Friday']\n",
    "y.extend(['Thursday', 'Sunday'])\n",
    "print(y, len(y)) "
   ]
  },
  {
   "cell_type": "markdown",
   "id": "strong-there",
   "metadata": {},
   "source": [
    "严格来说 `append` 是追加，把一个东西整体添加在列表后，而 `extend` 是扩展，把一个东西里的所有元素添加在列表后。\n",
    "\n",
    "- `list.insert(index, obj)` 在编号 `index` 位置插入 `obj`。"
   ]
  },
  {
   "cell_type": "code",
   "execution_count": 2,
   "id": "religious-australian",
   "metadata": {},
   "outputs": [
    {
     "name": "stdout",
     "output_type": "stream",
     "text": [
      "['Monday', 'Tuesday', 'Sunday', 'Wednesday', 'Thursday', 'Friday']\n"
     ]
    }
   ],
   "source": [
    "x = ['Monday', 'Tuesday', 'Wednesday', 'Thursday', 'Friday']\n",
    "x.insert(2, 'Sunday')\n",
    "print(x)"
   ]
  },
  {
   "cell_type": "markdown",
   "id": "false-tamil",
   "metadata": {},
   "source": [
    "### 1.2  删除列表中的元素\n",
    "`remove` 和 `pop` 都可以删除元素，前者是指定具体要删除的元素，后者是指定一个索引。\n",
    "\n",
    "- `del var1[, var2 ……]` 删除单个或多个对象。"
   ]
  },
  {
   "cell_type": "code",
   "execution_count": 3,
   "id": "bibliographic-miniature",
   "metadata": {},
   "outputs": [
    {
     "name": "stdout",
     "output_type": "stream",
     "text": [
      "['Wednesday', 'Thursday', 'Friday']\n"
     ]
    }
   ],
   "source": [
    "x = ['Monday', 'Tuesday', 'Wednesday', 'Thursday', 'Friday']\n",
    "del x[0:2]\n",
    "print(x)  # ['Wednesday', 'Thursday', 'Friday']"
   ]
  },
  {
   "cell_type": "markdown",
   "id": "painful-raising",
   "metadata": {},
   "source": [
    "如果你要从列表中删除一个元素，且不再以任何方式使用它，就使用`del`语句；如果你要在删除元素后还能继续使用它，就使用方法`pop()`。\n",
    "\n",
    "### 1.3 获取列表中的元素\n",
    "\n",
    "切片的通用写法是 `start : stop : step`"
   ]
  },
  {
   "cell_type": "code",
   "execution_count": 4,
   "id": "terminal-kentucky",
   "metadata": {},
   "outputs": [
    {
     "name": "stdout",
     "output_type": "stream",
     "text": [
      "['Tuesday', 'Thursday']\n",
      "['Monday', 'Wednesday']\n",
      "['Tuesday', 'Thursday']\n",
      "['Friday', 'Thursday', 'Wednesday', 'Tuesday', 'Monday']\n"
     ]
    }
   ],
   "source": [
    "week = ['Monday', 'Tuesday', 'Wednesday', 'Thursday', 'Friday']\n",
    "print(week[1:4:2])  # ['Tuesday', 'Thursday']\n",
    "print(week[:4:2])  # ['Monday', 'Wednesday']\n",
    "print(week[1::2])  # ['Tuesday', 'Thursday']\n",
    "print(week[::-1])  "
   ]
  },
  {
   "cell_type": "markdown",
   "id": "breeding-hungary",
   "metadata": {},
   "source": [
    " 复制列表中的所有元素（浅拷贝）。"
   ]
  },
  {
   "cell_type": "code",
   "execution_count": 5,
   "id": "further-tonight",
   "metadata": {},
   "outputs": [
    {
     "name": "stdout",
     "output_type": "stream",
     "text": [
      "['Monday', 'Tuesday', 'Wednesday', 'Thursday', 'Friday']\n"
     ]
    }
   ],
   "source": [
    "eek = ['Monday', 'Tuesday', 'Wednesday', 'Thursday', 'Friday']\n",
    "print(week[:])  "
   ]
  },
  {
   "cell_type": "markdown",
   "id": "horizontal-pocket",
   "metadata": {},
   "source": [
    "浅拷贝与深拷贝的区别"
   ]
  },
  {
   "cell_type": "code",
   "execution_count": 6,
   "id": "collected-defeat",
   "metadata": {},
   "outputs": [
    {
     "name": "stdout",
     "output_type": "stream",
     "text": [
      "[123, 456, 789, 213]\n",
      "[123, 456, 789, 213]\n",
      "[123, 213, 456, 789]\n",
      "[123, 456, 789, 213]\n",
      "[[123, 456], [789, 213]]\n",
      "[[123, 456], [789, 213]]\n",
      "[[111, 456], [789, 213]]\n",
      "[[111, 456], [789, 213]]\n"
     ]
    }
   ],
   "source": [
    "list1 = [123, 456, 789, 213]\n",
    "list2 = list1\n",
    "list3 = list1[:]\n",
    "\n",
    "print(list2)  # [123, 456, 789, 213]\n",
    "print(list3)  # [123, 456, 789, 213]\n",
    "list1.sort()\n",
    "print(list2)  # [123, 213, 456, 789] \n",
    "print(list3)  # [123, 456, 789, 213]\n",
    "\n",
    "list1 = [[123, 456], [789, 213]]\n",
    "list2 = list1\n",
    "list3 = list1[:]\n",
    "print(list2)  # [[123, 456], [789, 213]]\n",
    "print(list3)  # [[123, 456], [789, 213]]\n",
    "list1[0][0] = 111\n",
    "print(list2)  # [[111, 456], [789, 213]]\n",
    "print(list3)  # [[111, 456], [789, 213]]"
   ]
  },
  {
   "cell_type": "markdown",
   "id": "still-affairs",
   "metadata": {},
   "source": [
    "### 1.4 列表的常用操作符\n",
    "- 连接操作符 `+`\n",
    "- 重复操作符 `*`"
   ]
  },
  {
   "cell_type": "code",
   "execution_count": null,
   "id": "norwegian-resident",
   "metadata": {},
   "outputs": [],
   "source": [
    "list1 = [123, 456]\n",
    "list2 = [456, 123]\n",
    "list3 = [123, 456]\n",
    "\n",
    "list4 = list1 + list2  # extend()\n",
    "print(list4)  # [123, 456, 456, 123]\n",
    "\n",
    "list5 = list3 * 3    # list3 *= 3\n",
    "print(list5)  # [123, 456, 123, 456, 123, 456]"
   ]
  },
  {
   "cell_type": "markdown",
   "id": "indian-rally",
   "metadata": {},
   "source": [
    "\n",
    "前面三种方法（`append`, `extend`, `insert`）可对列表增加元素，它们没有返回值，是直接修改了原数据对象。\n",
    "而将两个list相加，需要创建新的 list 对象，从而需要消耗额外的内存，特别是当 list 较大时，尽量不要使用 “+” 来添加list。\n",
    "\n",
    "### 1.5. 列表的其它方法\n",
    "\n",
    "`list.count(obj)` 统计某个元素在列表中出现的次数\n",
    "`list.reverse()` 反向列表中元素\n",
    "`list.sort(key=None, reverse=False)` 对原列表进行排序。\n",
    "\n",
    "- `key` -- 主要是用来进行比较的元素，只有一个参数，具体的函数的参数就是取自于可迭代对象中，指定可迭代对象中的一个元素来进行排序。\n",
    "- `reverse` -- 排序规则，`reverse = True` 降序， `reverse = False` 升序（默认）。\n",
    "- 该方法没有返回值，但是会对列表的对象进行排序。"
   ]
  },
  {
   "cell_type": "code",
   "execution_count": 8,
   "id": "peaceful-counter",
   "metadata": {},
   "outputs": [
    {
     "name": "stdout",
     "output_type": "stream",
     "text": [
      "[(4, 1), (2, 2), (1, 3), (3, 4)]\n",
      "[(1, 3), (2, 2), (3, 4), (4, 1)]\n"
     ]
    }
   ],
   "source": [
    "# 获取列表的第二个元素\n",
    "def takeSecond(elem):\n",
    "    return elem[1]\n",
    "\n",
    "x = [(2, 2), (3, 4), (4, 1), (1, 3)]\n",
    "x.sort(key=takeSecond)\n",
    "print(x)\n",
    "# [(4, 1), (2, 2), (1, 3), (3, 4)]\n",
    "\n",
    "x.sort(key=lambda a: a[0])\n",
    "print(x)\n",
    "# [(1, 3), (2, 2), (3, 4), (4, 1)]"
   ]
  },
  {
   "cell_type": "markdown",
   "id": "noble-rendering",
   "metadata": {},
   "source": [
    "## 2.元组\n",
    "创建二维元组"
   ]
  },
  {
   "cell_type": "code",
   "execution_count": 11,
   "id": "virgin-mapping",
   "metadata": {},
   "outputs": [
    {
     "name": "stdout",
     "output_type": "stream",
     "text": [
      "(1, 10.31, 'python')\n",
      "1 10.31 python\n"
     ]
    }
   ],
   "source": [
    "x = (1, 10.31, 'python'), ('data', 11)\n",
    "\n",
    "print(x[0])\n",
    "print(x[0][0], x[0][1], x[0][2])"
   ]
  },
  {
   "cell_type": "markdown",
   "id": "talented-scientist",
   "metadata": {},
   "source": [
    "元组有不可更改 (immutable) 的性质，因此不能直接给元组的元素赋值，但是只要元组中的元素可更改 (mutable)，那么我们可以直接更改其元素，注意这跟赋值其元素不同。\n",
    "\n",
    "### 2.1. 内置方法\n",
    "\n",
    "元组大小和内容都不可更改，因此只有 `count` 和 `index` 两种方法。\n",
    "\n",
    "### 2.2 解压元组\n",
    "解压（unpack）一维元组（有几个元素左边括号定义几个变量）"
   ]
  },
  {
   "cell_type": "code",
   "execution_count": 12,
   "id": "preliminary-wagner",
   "metadata": {},
   "outputs": [
    {
     "name": "stdout",
     "output_type": "stream",
     "text": [
      "1 10.31 python\n"
     ]
    }
   ],
   "source": [
    "t = (1, 10.31, 'python')\n",
    "(a, b, c) = t\n",
    "print(a, b, c)"
   ]
  },
  {
   "cell_type": "markdown",
   "id": "controversial-feedback",
   "metadata": {},
   "source": [
    "如果只想要元组其中几个元素，用通配符「*」，英文叫 wildcard，把多个元素丢给了 rest 变量。"
   ]
  },
  {
   "cell_type": "code",
   "execution_count": 13,
   "id": "magnetic-complexity",
   "metadata": {},
   "outputs": [
    {
     "name": "stdout",
     "output_type": "stream",
     "text": [
      "1 2 5\n",
      "[3, 4]\n"
     ]
    }
   ],
   "source": [
    "t = 1, 2, 3, 4, 5\n",
    "a, b, *rest, c = t\n",
    "print(a, b, c)  # 1 2 5\n",
    "print(rest)  # [3, 4]"
   ]
  },
  {
   "cell_type": "markdown",
   "id": "sonic-course",
   "metadata": {},
   "source": [
    "如果根本不在乎 rest 变量，那么就用通配符「*」加上下划线「_」。"
   ]
  },
  {
   "cell_type": "code",
   "execution_count": 14,
   "id": "favorite-leather",
   "metadata": {},
   "outputs": [
    {
     "name": "stdout",
     "output_type": "stream",
     "text": [
      "1 2\n"
     ]
    }
   ],
   "source": [
    "t = 1, 2, 3, 4, 5\n",
    "a, b, *_ = t\n",
    "print(a, b)  # 1 2"
   ]
  },
  {
   "cell_type": "markdown",
   "id": "familiar-lancaster",
   "metadata": {},
   "source": [
    "## 3.字符串\n",
    "\n",
    "- Python 的常用转义字符\n",
    "\n",
    "\n",
    "转义字符 | 描述\n",
    ":---:|---\n",
    "`\\\\` | 反斜杠符号\n",
    "`\\'` | 单引号\n",
    "`\\\"` | 双引号\n",
    "`\\n` | 换行\n",
    "`\\t` | 横向制表符(TAB)\n",
    "`\\r` | 回车"
   ]
  },
  {
   "cell_type": "code",
   "execution_count": 15,
   "id": "coastal-gilbert",
   "metadata": {},
   "outputs": [
    {
     "name": "stdout",
     "output_type": "stream",
     "text": [
      "C:\\Program Files\\Intel\\Wifi\\Help\n"
     ]
    }
   ],
   "source": [
    "print(\"C:\\\\Program Files\\\\Intel\\\\Wifi\\\\Help\")"
   ]
  },
  {
   "cell_type": "markdown",
   "id": "russian-merchandise",
   "metadata": {},
   "source": [
    "原始字符串只需要在字符串前边加一个英文字母 r 即可"
   ]
  },
  {
   "cell_type": "code",
   "execution_count": 16,
   "id": "accurate-member",
   "metadata": {},
   "outputs": [
    {
     "name": "stdout",
     "output_type": "stream",
     "text": [
      "C:\\Program Files\\Intel\\Wifi\\Help\n"
     ]
    }
   ],
   "source": [
    "print(r'C:\\Program Files\\Intel\\Wifi\\Help')  "
   ]
  },
  {
   "cell_type": "markdown",
   "id": "varied-headquarters",
   "metadata": {},
   "source": [
    "三引号允许一个字符串跨多行，字符串中可以包含换行符、制表符以及其他特殊字符"
   ]
  },
  {
   "cell_type": "code",
   "execution_count": 17,
   "id": "invalid-worship",
   "metadata": {},
   "outputs": [
    {
     "name": "stdout",
     "output_type": "stream",
     "text": [
      "这是一个多行字符串的实例\n",
      "多行字符串可以使用制表符\n",
      "TAB ( \t )。\n",
      "也可以使用换行符 [ \n",
      " ]。\n",
      "\n"
     ]
    }
   ],
   "source": [
    "para_str = \"\"\"这是一个多行字符串的实例\n",
    "多行字符串可以使用制表符\n",
    "TAB ( \\t )。\n",
    "也可以使用换行符 [ \\n ]。\n",
    "\"\"\"\n",
    "print(para_str)"
   ]
  },
  {
   "cell_type": "markdown",
   "id": "smaller-birmingham",
   "metadata": {},
   "source": [
    "### 3.1 字符串的常用内置方法\n",
    "- `capitalize()` 将字符串的第一个字符转换为大写。\n",
    "- `lower()` 转换字符串中所有大写字符为小写。\n",
    "- `upper()` 转换字符串中的小写字母为大写。\n",
    "- `swapcase()` 将字符串中大写转换为小写，小写转换为大写。\n",
    "- `count(str, beg= 0,end=len(string))` 返回`str`在 string 里面出现的次数，如果`beg`或者`end`指定则返回指定范围内`str`出现的次数。\n",
    "- `endswith(suffix, beg=0, end=len(string))` 检查字符串是否以指定子字符串 `suffix` 结束，如果是，返回 True，否则返回 False。如果 `beg` 和 `end` 指定值，则在指定范围内检查。\n",
    "- `startswith(substr, beg=0,end=len(string))` 检查字符串是否以指定子字符串 `substr` 开头，如果是，返回 True，否则返回 False。如果 `beg` 和 `end` 指定值，则在指定范围内检查。\n",
    "- `find(str, beg=0, end=len(string))` 检测 `str` 是否包含在字符串中，如果指定范围 `beg` 和 `end`，则检查是否包含在指定范围内，如果包含，返回开始的索引值，否则返回 -1。\n",
    "- `rfind(str, beg=0,end=len(string))` 类似于 `find()` 函数，不过是从右边开始查找。\n",
    "- `isnumeric()` 如果字符串中只包含数字字符，则返回 True，否则返回 False。\n",
    "- `ljust(width[, fillchar])`返回一个原字符串左对齐，并使用`fillchar`（默认空格）填充至长度`width`的新字符串。\n",
    "- `rjust(width[, fillchar])`返回一个原字符串右对齐，并使用`fillchar`（默认空格）填充至长度`width`的新字符串。"
   ]
  },
  {
   "cell_type": "code",
   "execution_count": 20,
   "id": "direct-format",
   "metadata": {},
   "outputs": [
    {
     "name": "stdout",
     "output_type": "stream",
     "text": [
      "11010000\n",
      "00001101\n"
     ]
    }
   ],
   "source": [
    "str4 = '1101'\n",
    "print(str4.ljust(8, '0'))  # 11010000\n",
    "print(str4.rjust(8, '0'))  # 00001101"
   ]
  },
  {
   "cell_type": "markdown",
   "id": "located-stylus",
   "metadata": {},
   "source": [
    "- `lstrip([chars])` 截掉字符串左边的空格或指定字符。\n",
    "- `rstrip([chars])` 删除字符串末尾的空格或指定字符。\n",
    "- `strip([chars])` 在字符串上执行`lstrip()`和`rstrip()`。"
   ]
  },
  {
   "cell_type": "code",
   "execution_count": 21,
   "id": "driving-catholic",
   "metadata": {},
   "outputs": [
    {
     "name": "stdout",
     "output_type": "stream",
     "text": [
      "I Love LsgoGroup \n",
      " Love LsgoGroup \n",
      " I Love LsgoGroup\n",
      "I Love LsgoGroup\n",
      "I Love LsgoGrou\n"
     ]
    }
   ],
   "source": [
    "str5 = ' I Love LsgoGroup '\n",
    "print(str5.lstrip())  # 'I Love LsgoGroup '\n",
    "print(str5.lstrip().strip('I'))  # ' Love LsgoGroup '\n",
    "print(str5.rstrip())  # ' I Love LsgoGroup'\n",
    "print(str5.strip())  # 'I Love LsgoGroup'\n",
    "print(str5.strip().strip('p'))  # 'I Love LsgoGrou'"
   ]
  },
  {
   "cell_type": "markdown",
   "id": "departmental-fiber",
   "metadata": {},
   "source": [
    "- `partition(sub)` 找到子字符串sub，把字符串分为一个三元组`(pre_sub,sub,fol_sub)`，如果字符串中不包含sub则返回`('原字符串','','')`。\n",
    "- `rpartition(sub)`类似于`partition()`方法，不过是从右边开始查找。"
   ]
  },
  {
   "cell_type": "code",
   "execution_count": 22,
   "id": "olive-duncan",
   "metadata": {},
   "outputs": [
    {
     "name": "stdout",
     "output_type": "stream",
     "text": [
      "('I L', 'o', 've LsgoGroup')\n",
      "('I Love LsgoGroup', '', '')\n",
      "('I Love LsgoGr', 'o', 'up')\n"
     ]
    }
   ],
   "source": [
    "str5 = ' I Love LsgoGroup '\n",
    "print(str5.strip().partition('o'))  # ('I L', 'o', 've LsgoGroup')\n",
    "print(str5.strip().partition('m'))  # ('I Love LsgoGroup', '', '')\n",
    "print(str5.strip().rpartition('o'))  # ('I Love LsgoGr', 'o', 'up')"
   ]
  },
  {
   "cell_type": "markdown",
   "id": "vocal-vehicle",
   "metadata": {},
   "source": [
    "- `replace(old, new [, max])` 把 将字符串中的`old`替换成`new`，如果`max`指定，则替换不超过`max`次。\n",
    "- `split(str=\"\", num)` 不带参数默认是以空格为分隔符切片字符串，如果`num`参数有设置，则仅分隔`num`个子字符串，返回切片后的子字符串拼接的列表。\n"
   ]
  },
  {
   "cell_type": "code",
   "execution_count": 24,
   "id": "turned-correlation",
   "metadata": {},
   "outputs": [
    {
     "name": "stdout",
     "output_type": "stream",
     "text": [
      "['www', 'baidu', 'com.cn']\n",
      "www.baidu.com\n",
      "['www', 'baidu', 'com']\n"
     ]
    }
   ],
   "source": [
    "u = \"www.baidu.com.cn\"\n",
    "# 分割两次\n",
    "print(u.split(\".\", 2))  # ['www', 'baidu', 'com.cn']"
   ]
  },
  {
   "cell_type": "code",
   "execution_count": 25,
   "id": "lined-freedom",
   "metadata": {},
   "outputs": [
    {
     "name": "stdout",
     "output_type": "stream",
     "text": [
      "www.baidu.com\n",
      "['www', 'baidu', 'com']\n"
     ]
    }
   ],
   "source": [
    "string = \"hello boy<[www.baidu.com]>byebye\"\n",
    "print(string.split('[')[1].split(']')[0])  # www.baidu.com\n",
    "print(string.split('[')[1].split(']')[0].split('.'))  # ['www', 'baidu', 'com']"
   ]
  },
  {
   "cell_type": "markdown",
   "id": "terminal-constitution",
   "metadata": {},
   "source": [
    "- `splitlines([keepends])` 按照行('\\r', '\\r\\n', \\n')分隔，返回一个包含各行作为元素的列表，如果参数`keepends`为 False，不包含换行符，如果为 True，则保留换行符。"
   ]
  },
  {
   "cell_type": "code",
   "execution_count": 26,
   "id": "ranking-indian",
   "metadata": {},
   "outputs": [
    {
     "name": "stdout",
     "output_type": "stream",
     "text": [
      "['I ', ' Love ', ' LsgoGroup']\n",
      "['I \\n', ' Love \\n', ' LsgoGroup']\n"
     ]
    }
   ],
   "source": [
    "str6 = 'I \\n Love \\n LsgoGroup'\n",
    "print(str6.splitlines())  # ['I ', ' Love ', ' LsgoGroup']\n",
    "print(str6.splitlines(True))  # ['I \\n', ' Love \\n', ' LsgoGroup']"
   ]
  },
  {
   "cell_type": "markdown",
   "id": "aggressive-atlas",
   "metadata": {},
   "source": [
    "- `maketrans(intab, outtab)` 创建字符映射的转换表，第一个参数是字符串，表示需要转换的字符，第二个参数也是字符串表示转换的目标。\n",
    "- `translate(table, deletechars=\"\")` 根据参数`table`给出的表，转换字符串的字符，要过滤掉的字符放到`deletechars`参数中。"
   ]
  },
  {
   "cell_type": "code",
   "execution_count": 27,
   "id": "electoral-warner",
   "metadata": {},
   "outputs": [
    {
     "name": "stdout",
     "output_type": "stream",
     "text": [
      "{97: 49, 101: 50, 105: 51, 111: 52, 117: 53}\n",
      "th3s 3s str3ng 2x1mpl2....w4w!!!\n"
     ]
    }
   ],
   "source": [
    "str7 = 'this is string example....wow!!!'\n",
    "intab = 'aeiou'\n",
    "outtab = '12345'\n",
    "trantab = str7.maketrans(intab, outtab)\n",
    "print(trantab)  # {97: 49, 111: 52, 117: 53, 101: 50, 105: 51}\n",
    "print(str7.translate(trantab))  # th3s 3s str3ng 2x1mpl2....w4w!!!"
   ]
  },
  {
   "cell_type": "markdown",
   "id": "technical-permit",
   "metadata": {},
   "source": [
    "### 3.2 字符串格式化\n",
    "-`format` 格式化函数"
   ]
  },
  {
   "cell_type": "code",
   "execution_count": 28,
   "id": "documented-context",
   "metadata": {},
   "outputs": [
    {
     "name": "stdout",
     "output_type": "stream",
     "text": [
      "27.66GB\n"
     ]
    }
   ],
   "source": [
    "str8 = '{0:.2f}{1}'.format(27.658, 'GB')  # 保留小数点后两位\n",
    "print(str8)  # 27.66GB"
   ]
  },
  {
   "cell_type": "markdown",
   "id": "coral-twelve",
   "metadata": {},
   "source": [
    "- Python 字符串格式化符号\n",
    "\n",
    "\n",
    " 符   号 | 描述\n",
    ":---:|:---\n",
    "%c | 格式化字符及其ASCII码\n",
    "%s | 格式化字符串，用str()方法处理对象\n",
    "%r | 格式化字符串，用rper()方法处理对象\n",
    "%d | 格式化整数\n",
    "%o | 格式化无符号八进制数\n",
    "%x | 格式化无符号十六进制数\n",
    "%X | 格式化无符号十六进制数（大写）\n",
    "%f | 格式化浮点数字，可指定小数点后的精度\n",
    "%e | 用科学计数法格式化浮点数\n",
    "%E | 作用同%e，用科学计数法格式化浮点数\n",
    "%g | 根据值的大小决定使用%f或%e\n",
    "%G | 作用同%g，根据值的大小决定使用%f或%E"
   ]
  },
  {
   "cell_type": "code",
   "execution_count": 29,
   "id": "international-energy",
   "metadata": {},
   "outputs": [
    {
     "name": "stdout",
     "output_type": "stream",
     "text": [
      "a\n",
      "a b c\n",
      "4 + 5 = 9\n",
      "我叫 小明 今年 10 岁!\n",
      "12\n",
      "a\n",
      "A\n",
      "27.658000\n",
      "2.765800e+01\n",
      "2.765800E+01\n",
      "27.658\n",
      "I said: I am 22 years old..\n",
      "I said: 'I am 22 years old.'.\n"
     ]
    }
   ],
   "source": [
    "print('%c' % 97)  # a\n",
    "print('%c %c %c' % (97, 98, 99))  # a b c\n",
    "print('%d + %d = %d' % (4, 5, 9))  # 4 + 5 = 9\n",
    "print(\"我叫 %s 今年 %d 岁!\" % ('小明', 10))  # 我叫 小明 今年 10 岁!\n",
    "print('%o' % 10)  # 12\n",
    "print('%x' % 10)  # a\n",
    "print('%X' % 10)  # A\n",
    "print('%f' % 27.658)  # 27.658000\n",
    "print('%e' % 27.658)  # 2.765800e+01\n",
    "print('%E' % 27.658)  # 2.765800E+01\n",
    "print('%g' % 27.658)  # 27.658\n",
    "text = \"I am %d years old.\" % 22\n",
    "print(\"I said: %s.\" % text)  # I said: I am 22 years old..\n",
    "print(\"I said: %r.\" % text)  # I said: 'I am 22 years old.'"
   ]
  },
  {
   "cell_type": "markdown",
   "id": "adjacent-partition",
   "metadata": {},
   "source": [
    "- 格式化操作符辅助指令\n",
    "\n",
    "符号 | 功能\n",
    ":---:|:---\n",
    "`m.n` | m 是显示的最小总宽度,n 是小数点后的位数（如果可用的话）\n",
    "`-` | 用作左对齐\n",
    "`+` | 在正数前面显示加号( + )\n",
    "`#` | 在八进制数前面显示零('0')，在十六进制前面显示'0x'或者'0X'(取决于用的是'x'还是'X')\n",
    "`0` | 显示的数字前面填充'0'而不是默认的空格"
   ]
  },
  {
   "cell_type": "code",
   "execution_count": 30,
   "id": "hawaiian-nothing",
   "metadata": {},
   "outputs": [
    {
     "name": "stdout",
     "output_type": "stream",
     "text": [
      " 27.7\n",
      "2.77e+01\n",
      "        10\n",
      "10        \n",
      "+10\n",
      "0o12\n",
      "0x6c\n",
      "0000000005\n"
     ]
    }
   ],
   "source": [
    "print('%5.1f' % 27.658)  # ' 27.7'\n",
    "print('%.2e' % 27.658)  # 2.77e+01\n",
    "print('%10d' % 10)  # '        10'\n",
    "print('%-10d' % 10)  # '10        '\n",
    "print('%+d' % 10)  # +10\n",
    "print('%#o' % 10)  # 0o12\n",
    "print('%#x' % 108)  # 0x6c\n",
    "print('%010d' % 5)  # 0000000005"
   ]
  },
  {
   "cell_type": "markdown",
   "id": "verified-johns",
   "metadata": {},
   "source": [
    "## 4. 字典\n",
    "那么如何快速判断一个数据类型 X 是不是可变类型的呢？两种方法：\n",
    "用`hash(X)`，只要不报错，证明 `X` 可被哈希，即不可变，反过来不可被哈希，即可变"
   ]
  },
  {
   "cell_type": "code",
   "execution_count": null,
   "id": "partial-notification",
   "metadata": {},
   "outputs": [],
   "source": [
    "print(hash('Name'))  # 7047218704141848153\n",
    "print(hash((1, 2, 'Python')))  # 1704535747474881831\n",
    "print(hash([1, 2, 'Python']))\n",
    "print(hash({1, 2, 3}))"
   ]
  },
  {
   "cell_type": "markdown",
   "id": "double-grill",
   "metadata": {},
   "source": [
    "- 数值、字符和元组 都能被哈希，因此它们是不可变类型。\n",
    "- 列表、集合、字典不能被哈希，因此它是可变类型。\n"
   ]
  },
  {
   "cell_type": "markdown",
   "id": "charming-dress",
   "metadata": {},
   "source": [
    "### 4.1 字典的定义\n",
    "通过构造函数dict来创建字典。\n",
    "\n",
    "- `dict()` 创建一个空的字典。\n",
    "- dict(mapping)` new dictionary initialized from a mapping object's (key, value) pairs"
   ]
  },
  {
   "cell_type": "code",
   "execution_count": 32,
   "id": "protective-cradle",
   "metadata": {},
   "outputs": [],
   "source": [
    "dic = dict()\n",
    "dic['a'] = 1\n",
    "dic['b'] = 2\n",
    "dic['c'] = 3"
   ]
  },
  {
   "cell_type": "code",
   "execution_count": null,
   "id": "solar-nerve",
   "metadata": {},
   "outputs": [],
   "source": [
    "dic1 = dict([('apple', 4139), ('peach', 4127), ('cherry', 4098)])\n",
    "dic2 = dict((('apple', 4139), ('peach', 4127), ('cherry', 4098)))"
   ]
  },
  {
   "cell_type": "markdown",
   "id": "dressed-history",
   "metadata": {},
   "source": [
    "\n",
    "- `dict(**kwargs)` -> new dictionary initialized with the name=value pairs in the keyword argument list.  For example:  dict(one=1, two=2)\n",
    "\n",
    "【例子】这种情况下，键只能为字符串类型，并且创建的时候字符串不能加引号，加上就会直接报语法错误。"
   ]
  },
  {
   "cell_type": "code",
   "execution_count": null,
   "id": "relative-siemens",
   "metadata": {},
   "outputs": [],
   "source": [
    "dic = dict(name='Tom', age=10)"
   ]
  },
  {
   "cell_type": "markdown",
   "id": "handy-cambodia",
   "metadata": {},
   "source": [
    "### 4.2 字典的内置方法\n",
    "\n",
    "- `dict.fromkeys(seq[, value])` 用于创建一个新字典，以序列 `seq` 中元素做字典的键，`value` 为字典所有键对应的初始值。"
   ]
  },
  {
   "cell_type": "code",
   "execution_count": 33,
   "id": "contrary-glance",
   "metadata": {},
   "outputs": [
    {
     "name": "stdout",
     "output_type": "stream",
     "text": [
      "{'name': ('小马', '8', '男'), 'age': ('小马', '8', '男'), 'sex': ('小马', '8', '男')}\n"
     ]
    }
   ],
   "source": [
    "seq = ('name', 'age', 'sex')\n",
    "dic3 = dict.fromkeys(seq, ('小马', '8', '男'))\n",
    "print(dic3)"
   ]
  },
  {
   "cell_type": "markdown",
   "id": "handled-gateway",
   "metadata": {},
   "source": [
    "- `dict.get(key, default=None)` 返回指定键的值，如果值不在字典中返回默认值。\n",
    "- `dict.setdefault(key, default=None)`和`get()`方法 类似, 如果键不存在于字典中，将会添加键并将值设为默认值。"
   ]
  },
  {
   "cell_type": "code",
   "execution_count": null,
   "id": "direct-retro",
   "metadata": {},
   "outputs": [],
   "source": [
    "dic = {'Name': 'Lsgogroup', 'Age': 7}\n",
    "print(\"Age 键的值为 : %s\" % dic.setdefault('Age', None))  # Age 键的值为 : 7\n",
    "print(\"Sex 键的值为 : %s\" % dic.setdefault('Sex', None))  # Sex 键的值为 : None"
   ]
  },
  {
   "cell_type": "markdown",
   "id": "sustainable-mexico",
   "metadata": {},
   "source": [
    "- `dict.pop(key[,default])`删除字典给定键 `key` 所对应的值，返回值为被删除的值。`key` 值必须给出。若`key`不存在，则返回 `default` 值。\n",
    "- `del dict[key]` 删除字典给定键 `key` 所对应的值。"
   ]
  },
  {
   "cell_type": "code",
   "execution_count": null,
   "id": "composed-steps",
   "metadata": {},
   "outputs": [],
   "source": [
    "dic1 = {1: \"a\", 2: [1, 2]}\n",
    "# 设置默认值，必须添加，否则报错\n",
    "print(dic1.pop(3, \"nokey\"), dic1)  # nokey {2: [1, 2]}"
   ]
  },
  {
   "cell_type": "markdown",
   "id": "finished-minneapolis",
   "metadata": {},
   "source": [
    "- `dict.popitem()`随机返回并删除字典中的一对键和值，如果字典已经为空，却调用了此方法，就报出KeyError异常。"
   ]
  },
  {
   "cell_type": "code",
   "execution_count": 34,
   "id": "intelligent-proxy",
   "metadata": {},
   "outputs": [
    {
     "name": "stdout",
     "output_type": "stream",
     "text": [
      "(2, [1, 2])\n"
     ]
    }
   ],
   "source": [
    "dic1 = {1: \"a\", 2: [1, 2]}\n",
    "print(dic1.popitem())  # {2: [1, 2]}"
   ]
  },
  {
   "cell_type": "markdown",
   "id": "defensive-present",
   "metadata": {},
   "source": [
    "- `dict.clear()`用于删除字典内所有元素。\n",
    "- `dict.copy()`返回一个字典的浅复制。\n",
    "- `dict.update(dict2)`把字典参数 `dict2` 的 `key:value`对 更新到字典 `dict` 里。"
   ]
  },
  {
   "cell_type": "code",
   "execution_count": 35,
   "id": "wound-operator",
   "metadata": {},
   "outputs": [
    {
     "name": "stdout",
     "output_type": "stream",
     "text": [
      "{'Name': 'Lsgogroup', 'Age': 8, 'Sex': 'female'}\n"
     ]
    }
   ],
   "source": [
    "dic = {'Name': 'Lsgogroup', 'Age': 7}\n",
    "dic2 = {'Sex': 'female', 'Age': 8}\n",
    "dic.update(dic2)\n",
    "print(dic)  \n",
    "# {'Sex': 'female', 'Age': 8, 'Name': 'Lsgogroup'}"
   ]
  },
  {
   "cell_type": "markdown",
   "id": "regional-graduation",
   "metadata": {},
   "source": [
    "### 4.3 Collections\n",
    "#### 1). defaultdict\n",
    "Unlike dict, with defaultdict you do not need to check whether a key is present or not."
   ]
  },
  {
   "cell_type": "code",
   "execution_count": 2,
   "id": "departmental-expense",
   "metadata": {},
   "outputs": [
    {
     "name": "stdout",
     "output_type": "stream",
     "text": [
      "defaultdict(<class 'list'>, {'Yasoob': ['Yellow'], 'Ali': ['Blue']})\n"
     ]
    }
   ],
   "source": [
    "from collections import defaultdict\n",
    "\n",
    "colours = (\n",
    "    ('Yasoob', 'Yellow'),\n",
    "    ('Ali', 'Blue'),\n",
    ")\n",
    "\n",
    "favourite_colours = defaultdict(list)\n",
    "\n",
    "for name, colour in colours:\n",
    "    favourite_colours[name].append(colour)\n",
    "\n",
    "print(favourite_colours)"
   ]
  },
  {
   "cell_type": "markdown",
   "id": "banned-census",
   "metadata": {},
   "source": [
    "If a key is not already present in the dictionary then you are greeted with a `KeyError`. `defaultdict` allows us to circumvent this issue"
   ]
  },
  {
   "cell_type": "code",
   "execution_count": 4,
   "id": "optimum-mother",
   "metadata": {},
   "outputs": [
    {
     "name": "stdout",
     "output_type": "stream",
     "text": [
      "{\"colours\": {\"favourite\": \"yellow\"}}\n"
     ]
    }
   ],
   "source": [
    "\"\"\"\n",
    "### Problems:\n",
    "some_dict = {}\n",
    "some_dict['colours']['favourite'] = \"yellow\"\n",
    "# Raises KeyError: 'colours'\n",
    "\"\"\"\n",
    "\n",
    "### Solutions\n",
    "from collections import defaultdict\n",
    "tree = lambda:defaultdict(tree)\n",
    "some_dict=tree()\n",
    "some_dict['colours']['favourite'] = 'yellow'\n",
    "# This will work fine\n",
    "\n",
    "# You can print some_dict using json.dumps. \n",
    "import json\n",
    "print(json.dumps(some_dict))"
   ]
  },
  {
   "cell_type": "markdown",
   "id": "inner-condition",
   "metadata": {},
   "source": [
    "#### 2)Counter\n",
    "Counter allows us to count the occurrences of a particular item"
   ]
  },
  {
   "cell_type": "code",
   "execution_count": 1,
   "id": "distant-calvin",
   "metadata": {},
   "outputs": [
    {
     "name": "stdout",
     "output_type": "stream",
     "text": [
      "Red 198\n",
      "Green 170\n",
      "Blue 160\n"
     ]
    }
   ],
   "source": [
    "### Problem\n",
    "colours =  {\"Red\" : 198, \"Green\" : 170, \"Blue\" : 160}\n",
    "for key, value in colours.items():\n",
    "    print(key, value)\n",
    "# Entries are retrieved in an unpredictable order"
   ]
  },
  {
   "cell_type": "code",
   "execution_count": 4,
   "id": "wrapped-navigator",
   "metadata": {},
   "outputs": [
    {
     "name": "stdout",
     "output_type": "stream",
     "text": [
      "Counter({'Yasoob': 2, 'Ali': 2})\n"
     ]
    }
   ],
   "source": [
    "from collections import Counter\n",
    "\n",
    "colours = (\n",
    "    ('Yasoob', 'Yellow'),\n",
    "    ('Ali', 'Blue'),\n",
    "    ('Ali', 'Black'),\n",
    "    ('Yasoob', 'Red'),\n",
    ")\n",
    "\n",
    "favs = Counter(name for name, colour in colours)\n",
    "print(favs)"
   ]
  },
  {
   "cell_type": "markdown",
   "id": "intelligent-cookbook",
   "metadata": {},
   "source": [
    "We can also count the most common lines in a file using it. For example:"
   ]
  },
  {
   "cell_type": "code",
   "execution_count": null,
   "id": "first-observation",
   "metadata": {},
   "outputs": [],
   "source": [
    "with open('filename', 'rb') as f:\n",
    "    line_count = Counter(f)\n",
    "print(line_count)"
   ]
  },
  {
   "cell_type": "markdown",
   "id": "fitting-glucose",
   "metadata": {},
   "source": [
    "#### 3） `deque`\n",
    "Deque provides us with a double ended queue, which means that we can append and delete elements from either side of the queue."
   ]
  },
  {
   "cell_type": "code",
   "execution_count": 5,
   "id": "fewer-screw",
   "metadata": {},
   "outputs": [
    {
     "data": {
      "text/plain": [
       "4"
      ]
     },
     "execution_count": 5,
     "metadata": {},
     "output_type": "execute_result"
    }
   ],
   "source": [
    "from collections import deque\n",
    "d = deque()\n",
    "d = deque(range(5))  # add 0-4 into this queue\n",
    "d.popleft() # 0\n",
    "d.pop()  # 4"
   ]
  },
  {
   "cell_type": "markdown",
   "id": "demonstrated-poison",
   "metadata": {},
   "source": [
    "## 5. 集合\n",
    "\n",
    "Python 中`set`与`dict`类似，也是一组`key`的集合，但不存储`value`。由于`key`不能重复，所以，在`set`中，没有重复的`key`。\n",
    "注意，`key`为不可变类型，即可哈希的值。"
   ]
  },
  {
   "cell_type": "code",
   "execution_count": 36,
   "id": "agricultural-catering",
   "metadata": {},
   "outputs": [
    {
     "name": "stdout",
     "output_type": "stream",
     "text": [
      "<class 'dict'>\n",
      "<class 'set'>\n"
     ]
    }
   ],
   "source": [
    "num = {}\n",
    "print(type(num))  # <class 'dict'>\n",
    "num = {1, 2, 3, 4}\n",
    "print(type(num))  # <class 'set'>"
   ]
  },
  {
   "cell_type": "markdown",
   "id": "suspended-alignment",
   "metadata": {},
   "source": [
    "### 5.1. 集合的创建\n",
    "\n",
    "- 先创建对象再加入元素。\n",
    "- 在创建空集合的时候只能使用`s = set()`，因为`s = {}`创建的是空字典。"
   ]
  },
  {
   "cell_type": "code",
   "execution_count": null,
   "id": "opposed-yield",
   "metadata": {},
   "outputs": [],
   "source": [
    "basket = set()\n",
    "basket.add('apple')\n",
    "basket.add('banana')\n",
    "print(basket)  # {'banana', 'apple'}"
   ]
  },
  {
   "cell_type": "markdown",
   "id": "latin-friendly",
   "metadata": {},
   "source": [
    "- 直接把一堆元素用花括号括起来`{元素1, 元素2, ..., 元素n}`。\n",
    "- 重复元素在`set`中会被自动被过滤。"
   ]
  },
  {
   "cell_type": "code",
   "execution_count": 37,
   "id": "worst-therapy",
   "metadata": {},
   "outputs": [
    {
     "name": "stdout",
     "output_type": "stream",
     "text": [
      "{'pear', 'banana', 'apple', 'orange'}\n"
     ]
    }
   ],
   "source": [
    "basket = {'apple', 'orange', 'apple', 'pear', 'orange', 'banana'}\n",
    "print(basket)  # {'banana', 'apple', 'pear', 'orange'}"
   ]
  },
  {
   "cell_type": "markdown",
   "id": "welcome-clothing",
   "metadata": {},
   "source": [
    "- 使用`set(value)`工厂函数，把列表或元组转换成集合。"
   ]
  },
  {
   "cell_type": "code",
   "execution_count": 38,
   "id": "informational-reality",
   "metadata": {},
   "outputs": [
    {
     "name": "stdout",
     "output_type": "stream",
     "text": [
      "{'b', 'd', 'a', 'r', 'c'}\n",
      "{'Taobao', 'Google', 'Lsgogroup'}\n"
     ]
    }
   ],
   "source": [
    "a = set('abracadabra')\n",
    "print(a)  \n",
    "\n",
    "c = set([\"Google\", \"Lsgogroup\", \"Taobao\", \"Google\"])\n",
    "print(c)  \n",
    "# {'Taobao', 'Lsgogroup', 'Google'}"
   ]
  },
  {
   "cell_type": "markdown",
   "id": "combined-secretary",
   "metadata": {},
   "source": [
    "### 5.2. 访问集合中的值\n",
    "\n",
    "- 可以使用`len()`內建函数得到集合的大小。"
   ]
  },
  {
   "cell_type": "code",
   "execution_count": null,
   "id": "representative-impossible",
   "metadata": {},
   "outputs": [],
   "source": [
    "s = set(['Google', 'Baidu', 'Taobao'])\n",
    "print(len(s))  # 3"
   ]
  },
  {
   "cell_type": "markdown",
   "id": "violent-clear",
   "metadata": {},
   "source": [
    "- 可以使用`for`把集合中的数据一个个读取出来。\n",
    "- 可以通过`in`或`not in`判断一个元素是否在集合中已经存在"
   ]
  },
  {
   "cell_type": "markdown",
   "id": "opposite-mounting",
   "metadata": {},
   "source": [
    "### 5.3. 集合的内置方法\n",
    "- `set.add(elmnt)`用于给集合添加元素，如果添加的元素在集合中已存在，则不执行任何操作。\n",
    "- `set.update(set)`用于修改当前集合，可以添加新的元素或集合到当前集合中，如果添加的元素在集合中已存在，则该元素只会出现一次，重复的会忽略。\n",
    "- `set.remove(item)` 用于移除集合中的指定元素。如果元素不存在，则会发生错误。\n",
    "- `set.discard(value)` 用于移除指定的集合元素。`remove()` 方法在移除一个不存在的元素时会发生错误，而 `discard()` 方法不会。\n",
    "- `set.pop()` 用于随机移除一个元素。"
   ]
  },
  {
   "cell_type": "markdown",
   "id": "opposite-lesson",
   "metadata": {},
   "source": [
    "由于 set 是无序和无重复元素的集合，所以两个或多个 set 可以做数学意义上的集合操作。\n",
    "- `set.intersection(set1, set2)` 返回两个集合的交集。\n",
    "- `set1 & set2` 返回两个集合的交集。\n",
    "- `set.intersection_update(set1, set2)` 交集，在原始的集合上移除不重叠的元素。"
   ]
  },
  {
   "cell_type": "code",
   "execution_count": 39,
   "id": "abroad-indianapolis",
   "metadata": {},
   "outputs": [
    {
     "name": "stdout",
     "output_type": "stream",
     "text": [
      "{'b', 'd', 'a', 'r', 'c'}\n",
      "{'z', 'a', 'l', 'm', 'c'}\n",
      "{'a', 'c'}\n",
      "{'a', 'c'}\n",
      "{'b', 'd', 'a', 'r', 'c'}\n",
      "{'a', 'c'}\n"
     ]
    }
   ],
   "source": [
    "a = set('abracadabra')\n",
    "b = set('alacazam')\n",
    "print(a)  # {'r', 'a', 'c', 'b', 'd'}\n",
    "print(b)  # {'c', 'a', 'l', 'm', 'z'}\n",
    "\n",
    "c = a.intersection(b)\n",
    "print(c)  # {'a', 'c'}\n",
    "print(a & b)  # {'c', 'a'}\n",
    "print(a)  # {'a', 'r', 'c', 'b', 'd'}\n",
    "\n",
    "a.intersection_update(b)\n",
    "print(a)  # {'a', 'c'}"
   ]
  },
  {
   "cell_type": "markdown",
   "id": "local-beijing",
   "metadata": {},
   "source": [
    "- `set.union(set1, set2)` 返回两个集合的并集。\n",
    "- `set1 | set2` 返回两个集合的并集。"
   ]
  },
  {
   "cell_type": "markdown",
   "id": "royal-description",
   "metadata": {},
   "source": [
    "- `set.difference(set)` 返回集合的差集。\n",
    "- `set1 - set2` 返回集合的差集。\n",
    "- `set.difference_update(set)` 集合的差集，直接在原来的集合中移除元素，没有返回值。"
   ]
  },
  {
   "cell_type": "markdown",
   "id": "revolutionary-attraction",
   "metadata": {},
   "source": [
    "\n",
    "- `set.symmetric_difference(set)`返回集合的异或。\n",
    "- `set1 ^ set2` 返回集合的异或。\n",
    "- `set.symmetric_difference_update(set)`移除当前集合中在另外一个指定集合相同的元素，并将另外一个指定集合中不同的元素插入到当前集合中。"
   ]
  },
  {
   "cell_type": "markdown",
   "id": "durable-hunter",
   "metadata": {},
   "source": [
    "- `set.issubset(set)`判断集合是不是被其他集合包含，如果是则返回 True，否则返回 False。\n",
    "- `set1 <= set2` 判断集合是不是被其他集合包含，如果是则返回 True，否则返回 False。"
   ]
  },
  {
   "cell_type": "markdown",
   "id": "protecting-dylan",
   "metadata": {},
   "source": [
    "- `set.issuperset(set)`用于判断集合是不是包含其他集合，如果是则返回 True，否则返回 False。\n",
    "- `set1 >= set2` 判断集合是不是包含其他集合，如果是则返回 True，否则返回 False"
   ]
  },
  {
   "cell_type": "markdown",
   "id": "given-overview",
   "metadata": {},
   "source": [
    "- `set.isdisjoint(set)` 用于判断两个集合是不是不相交，如果是返回 True，否则返回 False。"
   ]
  },
  {
   "cell_type": "markdown",
   "id": "narrow-election",
   "metadata": {},
   "source": [
    "### 5.4 集合的转换"
   ]
  },
  {
   "cell_type": "code",
   "execution_count": 40,
   "id": "fabulous-slovak",
   "metadata": {},
   "outputs": [
    {
     "name": "stdout",
     "output_type": "stream",
     "text": [
      "{0, 1, 2, 3} <class 'set'>\n",
      "[0, 1, 2, 3] <class 'list'>\n",
      "(0, 1, 2, 3) <class 'tuple'>\n"
     ]
    }
   ],
   "source": [
    "se = set(range(4))\n",
    "li = list(se)\n",
    "tu = tuple(se)\n",
    "\n",
    "print(se, type(se))  # {0, 1, 2, 3} <class 'set'>\n",
    "print(li, type(li))  # [0, 1, 2, 3] <class 'list'>\n",
    "print(tu, type(tu))  # (0, 1, 2, 3) <class 'tuple'>"
   ]
  },
  {
   "cell_type": "markdown",
   "id": "dated-majority",
   "metadata": {},
   "source": []
  }
 ],
 "metadata": {
  "kernelspec": {
   "display_name": "Python 3",
   "language": "python",
   "name": "python3"
  },
  "language_info": {
   "codemirror_mode": {
    "name": "ipython",
    "version": 3
   },
   "file_extension": ".py",
   "mimetype": "text/x-python",
   "name": "python",
   "nbconvert_exporter": "python",
   "pygments_lexer": "ipython3",
   "version": "3.8.5"
  }
 },
 "nbformat": 4,
 "nbformat_minor": 5
}
